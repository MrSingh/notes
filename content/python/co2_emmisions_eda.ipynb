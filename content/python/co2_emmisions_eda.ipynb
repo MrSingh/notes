{
 "cells": [
  {
   "cell_type": "markdown",
   "metadata": {},
   "source": [
    "---\n",
    "title: \"Exploratory Data Analysis of CO2 Emmisions Data with Python\"\n",
    "author: \"Puneet Thukral\"\n",
    "date: 2024-11-18T07:00:00 \n",
    "draft: false\n",
    "slug: \"co2_emmisions_eda\"\n",
    "---\n",
    "[EDGAR CO2 emmisions data](https://edgar.jrc.ec.europa.eu/report_2024)\n",
    "\n",
    "## ToDo:\n",
    "+ [ ] Remove Global Total Row From the Top 20 and 5 Datasets\n",
    "+ [x] % Increase in Avaiation and Shipping\n",
    "+ [x] Extract Figures for Aviation and Shipping\n",
    "+ [ ] % of Total Emissions by the Top 20 - 1970\n",
    "+ [ ] % of Total Emissions by the Top 5 - 1970\n",
    "+ [ ] % of Total Emissions by the Top 20 - 2023\n",
    "+ [ ] % of Total Emissions by the Top 5 - 2023\n",
    "+ [ ] Total CO2 Emissions for Each Year\n",
    "+ [x] Grand Total Emissions of Co2\n",
    "+ [ ] Create a ToC\n",
    "+ [ ] Create A Visual/Dashboard\n",
    "\n",
    "\n",
    "\n",
    "***"
   ]
  },
  {
   "cell_type": "markdown",
   "metadata": {},
   "source": [
    "An EDA of CO2 emmisons based on EDGAR(Emissions Database for Global Atmospheric Research) data."
   ]
  },
  {
   "cell_type": "code",
   "execution_count": 229,
   "metadata": {},
   "outputs": [],
   "source": [
    "# Import\n",
    "# To read Excel files install openpyxl, 'pip install openpyxl'.\n",
    "import pandas as pd\n",
    "import matplotlib.pyplot as plt\n",
    "import seaborn as sns\n",
    "\n",
    "# Load the Excel file\n",
    "file_path = 'data/EDGAR_2024_GHG_booklet_2024_fossilCO2only.xlsx' \n",
    "excel_file = pd.ExcelFile(file_path)"
   ]
  },
  {
   "cell_type": "code",
   "execution_count": 230,
   "metadata": {},
   "outputs": [
    {
     "name": "stdout",
     "output_type": "stream",
     "text": [
      "['info', 'citations and references', 'fossil_CO2_totals_by_country', 'fossil_CO2_by_sector_country_su', 'fossil_CO2_per_GDP_by_country', 'fossil_CO2_per_capita_by_countr']\n"
     ]
    }
   ],
   "source": [
    "# Get the sheet names\n",
    "sheet_names = excel_file.sheet_names\n",
    "print(sheet_names)"
   ]
  },
  {
   "cell_type": "code",
   "execution_count": 231,
   "metadata": {},
   "outputs": [
    {
     "name": "stdout",
     "output_type": "stream",
     "text": [
      "  Substance EDGAR Country Code                 Country        1970  \\\n",
      "0       CO2                ABW                   Aruba    0.025214   \n",
      "1       CO2                AFG             Afghanistan    1.733920   \n",
      "2       CO2                AGO                  Angola    8.933899   \n",
      "3       CO2                AIA                Anguilla    0.002178   \n",
      "4       CO2                AIR  International Aviation  169.900399   \n",
      "\n",
      "         1971        1972        1973        1974        1975        1976  \\\n",
      "0    0.028828    0.039472    0.044289    0.043469    0.057396    0.056423   \n",
      "1    1.733710    1.693584    1.733905    2.190318    2.028967    1.892642   \n",
      "2    8.519513   10.366104   11.346996   11.806561   10.904653    7.291981   \n",
      "3    0.002178    0.002273    0.002118    0.002360    0.002594    0.002444   \n",
      "4  169.900399  179.759531  187.494406  180.478129  174.582471  174.907983   \n",
      "\n",
      "   ...        2014        2015        2016        2017        2018  \\\n",
      "0  ...    0.440689    0.462026    0.484889    0.466592    0.465881   \n",
      "1  ...    7.825741    8.346521    7.527594    8.066138    7.932005   \n",
      "2  ...   30.887264   33.097499   31.285803   27.942099   26.258887   \n",
      "3  ...    0.027917    0.028027    0.028363    0.029087    0.028247   \n",
      "4  ...  507.505761  536.213680  560.173839  589.919315  615.937542   \n",
      "\n",
      "         2019        2020        2021        2022        2023  \n",
      "0    0.557917    0.452553    0.500635    0.502693    0.530026  \n",
      "1    7.249069    7.054133    7.930781    8.259915    8.707350  \n",
      "2   27.573216   20.710918   25.262832   27.353038   28.229928  \n",
      "3    0.027604    0.022804    0.022018    0.021861    0.022956  \n",
      "4  625.141435  298.655678  331.317425  411.474866  491.632308  \n",
      "\n",
      "[5 rows x 57 columns]\n",
      "<class 'pandas.core.frame.DataFrame'>\n",
      "RangeIndex: 214 entries, 0 to 213\n",
      "Data columns (total 57 columns):\n",
      " #   Column              Non-Null Count  Dtype  \n",
      "---  ------              --------------  -----  \n",
      " 0   Substance           212 non-null    object \n",
      " 1   EDGAR Country Code  212 non-null    object \n",
      " 2   Country             212 non-null    object \n",
      " 3   1970                212 non-null    float64\n",
      " 4   1971                212 non-null    float64\n",
      " 5   1972                212 non-null    float64\n",
      " 6   1973                212 non-null    float64\n",
      " 7   1974                212 non-null    float64\n",
      " 8   1975                212 non-null    float64\n",
      " 9   1976                212 non-null    float64\n",
      " 10  1977                212 non-null    float64\n",
      " 11  1978                212 non-null    float64\n",
      " 12  1979                212 non-null    float64\n",
      " 13  1980                212 non-null    float64\n",
      " 14  1981                212 non-null    float64\n",
      " 15  1982                212 non-null    float64\n",
      " 16  1983                212 non-null    float64\n",
      " 17  1984                212 non-null    float64\n",
      " 18  1985                212 non-null    float64\n",
      " 19  1986                212 non-null    float64\n",
      " 20  1987                212 non-null    float64\n",
      " 21  1988                212 non-null    float64\n",
      " 22  1989                212 non-null    float64\n",
      " 23  1990                212 non-null    float64\n",
      " 24  1991                212 non-null    float64\n",
      " 25  1992                212 non-null    float64\n",
      " 26  1993                212 non-null    float64\n",
      " 27  1994                212 non-null    float64\n",
      " 28  1995                212 non-null    float64\n",
      " 29  1996                212 non-null    float64\n",
      " 30  1997                212 non-null    float64\n",
      " 31  1998                212 non-null    float64\n",
      " 32  1999                212 non-null    float64\n",
      " 33  2000                212 non-null    float64\n",
      " 34  2001                212 non-null    float64\n",
      " 35  2002                212 non-null    float64\n",
      " 36  2003                212 non-null    float64\n",
      " 37  2004                212 non-null    float64\n",
      " 38  2005                212 non-null    float64\n",
      " 39  2006                212 non-null    float64\n",
      " 40  2007                212 non-null    float64\n",
      " 41  2008                212 non-null    float64\n",
      " 42  2009                212 non-null    float64\n",
      " 43  2010                212 non-null    float64\n",
      " 44  2011                212 non-null    float64\n",
      " 45  2012                212 non-null    float64\n",
      " 46  2013                212 non-null    float64\n",
      " 47  2014                212 non-null    float64\n",
      " 48  2015                212 non-null    float64\n",
      " 49  2016                212 non-null    float64\n",
      " 50  2017                212 non-null    float64\n",
      " 51  2018                212 non-null    float64\n",
      " 52  2019                212 non-null    float64\n",
      " 53  2020                212 non-null    float64\n",
      " 54  2021                212 non-null    float64\n",
      " 55  2022                212 non-null    float64\n",
      " 56  2023                212 non-null    float64\n",
      "dtypes: float64(54), object(3)\n",
      "memory usage: 95.4+ KB\n",
      "None\n",
      "               1970          1971          1972          1973          1974  \\\n",
      "count    212.000000    212.000000    212.000000    212.000000    212.000000   \n",
      "mean     165.187547    164.593604    172.811704    182.994107    182.107000   \n",
      "std     1156.059764   1149.393923   1207.690640   1277.712318   1270.065099   \n",
      "min        0.000781      0.000808      0.000830      0.000849      0.000866   \n",
      "25%        0.286447      0.286884      0.318343      0.343017      0.365587   \n",
      "50%        3.386873      3.597102      3.847670      4.354438      4.416961   \n",
      "75%       28.495989     28.027408     30.036502     32.365149     31.981332   \n",
      "max    15751.858044  15683.389817  16481.436077  17464.383654  17400.275859   \n",
      "\n",
      "               1975          1976          1977          1978          1979  \\\n",
      "count    212.000000    212.000000    212.000000    212.000000    212.000000   \n",
      "mean     181.002229    191.552881    196.688969    203.219252    209.009110   \n",
      "std     1261.219562   1334.127097   1373.062121   1416.315701   1454.302602   \n",
      "min        0.000880      0.000893      0.000903      0.000913      0.000923   \n",
      "25%        0.385887      0.352417      0.394585      0.401558      0.452316   \n",
      "50%        4.937966      5.336292      4.912663      5.285625      5.108881   \n",
      "75%       34.740841     37.028400     38.140764     38.765811     40.364992   \n",
      "max    17328.558005  18317.005105  18871.708706  19491.220885  20031.856482   \n",
      "\n",
      "       ...          2014          2015          2016          2017  \\\n",
      "count  ...    212.000000    212.000000    212.000000    212.000000   \n",
      "mean   ...    357.931300    357.014848    358.217444    364.215338   \n",
      "std    ...   2640.222845   2628.672453   2636.405088   2681.270458   \n",
      "min    ...      0.001999      0.001999      0.001999      0.002013   \n",
      "25%    ...      1.689968      1.598465      1.643029      1.802726   \n",
      "50%    ...      9.933750     10.577303     10.712506     10.877226   \n",
      "75%    ...     65.950974     67.545226     67.691992     68.810767   \n",
      "max    ...  36427.769713  36300.466451  36423.660699  37047.472031   \n",
      "\n",
      "               2018          2019          2020          2021          2022  \\\n",
      "count    212.000000    212.000000    212.000000    212.000000    212.000000   \n",
      "mean     372.634995    372.835024    353.536811    372.998986    373.821483   \n",
      "std     2753.141689   2762.651851   2636.710472   2779.917529   2786.844016   \n",
      "min        0.002029      0.002045      0.002059      0.002073      0.002089   \n",
      "25%        1.956477      1.974339      2.024798      2.149692      2.277833   \n",
      "50%       12.212169     12.533925     11.492360     12.185316     12.472898   \n",
      "75%       66.465855     69.363412     66.917612     65.511073     63.795406   \n",
      "max    37974.553886  38066.434146  36154.308044  38121.014981  38246.624061   \n",
      "\n",
      "               2023  \n",
      "count    212.000000  \n",
      "mean     379.999726  \n",
      "std     2851.542226  \n",
      "min        0.002103  \n",
      "25%        2.378238  \n",
      "50%       12.050200  \n",
      "75%       64.702804  \n",
      "max    39023.937039  \n",
      "\n",
      "[8 rows x 54 columns]\n"
     ]
    }
   ],
   "source": [
    "\n",
    "# Load a specific 'fossil_CO2_totals_by_country' sheet into a DataFrame\n",
    "# You can load the other sheets here for additional Analysis\n",
    "data = pd.read_excel(file_path, sheet_name='fossil_CO2_totals_by_country')\n",
    "\n",
    "# Inspect the Data  \n",
    "print(data.head())\n",
    "print(data.info())\n",
    "print(data.describe())"
   ]
  },
  {
   "cell_type": "code",
   "execution_count": 232,
   "metadata": {},
   "outputs": [
    {
     "name": "stdout",
     "output_type": "stream",
     "text": [
      "Substance             2\n",
      "EDGAR Country Code    2\n",
      "Country               2\n",
      "1970                  2\n",
      "1971                  2\n",
      "1972                  2\n",
      "1973                  2\n",
      "1974                  2\n",
      "1975                  2\n",
      "1976                  2\n",
      "1977                  2\n",
      "1978                  2\n",
      "1979                  2\n",
      "1980                  2\n",
      "1981                  2\n",
      "1982                  2\n",
      "1983                  2\n",
      "1984                  2\n",
      "1985                  2\n",
      "1986                  2\n",
      "1987                  2\n",
      "1988                  2\n",
      "1989                  2\n",
      "1990                  2\n",
      "1991                  2\n",
      "1992                  2\n",
      "1993                  2\n",
      "1994                  2\n",
      "1995                  2\n",
      "1996                  2\n",
      "1997                  2\n",
      "1998                  2\n",
      "1999                  2\n",
      "2000                  2\n",
      "2001                  2\n",
      "2002                  2\n",
      "2003                  2\n",
      "2004                  2\n",
      "2005                  2\n",
      "2006                  2\n",
      "2007                  2\n",
      "2008                  2\n",
      "2009                  2\n",
      "2010                  2\n",
      "2011                  2\n",
      "2012                  2\n",
      "2013                  2\n",
      "2014                  2\n",
      "2015                  2\n",
      "2016                  2\n",
      "2017                  2\n",
      "2018                  2\n",
      "2019                  2\n",
      "2020                  2\n",
      "2021                  2\n",
      "2022                  2\n",
      "2023                  2\n",
      "dtype: int64\n"
     ]
    }
   ],
   "source": [
    "# Check for missing values\n",
    "print(data.isnull().sum())"
   ]
  },
  {
   "cell_type": "code",
   "execution_count": 233,
   "metadata": {},
   "outputs": [
    {
     "name": "stdout",
     "output_type": "stream",
     "text": [
      "    Substance EDGAR Country Code Country  1970  1971  1972  1973  1974  1975  \\\n",
      "210       NaN                NaN     NaN   NaN   NaN   NaN   NaN   NaN   NaN   \n",
      "212       NaN                NaN     NaN   NaN   NaN   NaN   NaN   NaN   NaN   \n",
      "\n",
      "     1976  ...  2014  2015  2016  2017  2018  2019  2020  2021  2022  2023  \n",
      "210   NaN  ...   NaN   NaN   NaN   NaN   NaN   NaN   NaN   NaN   NaN   NaN  \n",
      "212   NaN  ...   NaN   NaN   NaN   NaN   NaN   NaN   NaN   NaN   NaN   NaN  \n",
      "\n",
      "[2 rows x 57 columns]\n"
     ]
    }
   ],
   "source": [
    "# Check for rows where all columns are missing\n",
    "# As we can see from above we have 2 missing values for each coloumn which could be that we have two rows with no data\n",
    "missing_rows = data[data.isnull().all(axis=1)]\n",
    "print(missing_rows)"
   ]
  },
  {
   "cell_type": "code",
   "execution_count": 234,
   "metadata": {},
   "outputs": [
    {
     "name": "stdout",
     "output_type": "stream",
     "text": [
      "  Substance EDGAR Country Code                 Country        1970  \\\n",
      "0       CO2                ABW                   Aruba    0.025214   \n",
      "1       CO2                AFG             Afghanistan    1.733920   \n",
      "2       CO2                AGO                  Angola    8.933899   \n",
      "3       CO2                AIA                Anguilla    0.002178   \n",
      "4       CO2                AIR  International Aviation  169.900399   \n",
      "\n",
      "         1971        1972        1973        1974        1975        1976  \\\n",
      "0    0.028828    0.039472    0.044289    0.043469    0.057396    0.056423   \n",
      "1    1.733710    1.693584    1.733905    2.190318    2.028967    1.892642   \n",
      "2    8.519513   10.366104   11.346996   11.806561   10.904653    7.291981   \n",
      "3    0.002178    0.002273    0.002118    0.002360    0.002594    0.002444   \n",
      "4  169.900399  179.759531  187.494406  180.478129  174.582471  174.907983   \n",
      "\n",
      "   ...        2014        2015        2016        2017        2018  \\\n",
      "0  ...    0.440689    0.462026    0.484889    0.466592    0.465881   \n",
      "1  ...    7.825741    8.346521    7.527594    8.066138    7.932005   \n",
      "2  ...   30.887264   33.097499   31.285803   27.942099   26.258887   \n",
      "3  ...    0.027917    0.028027    0.028363    0.029087    0.028247   \n",
      "4  ...  507.505761  536.213680  560.173839  589.919315  615.937542   \n",
      "\n",
      "         2019        2020        2021        2022        2023  \n",
      "0    0.557917    0.452553    0.500635    0.502693    0.530026  \n",
      "1    7.249069    7.054133    7.930781    8.259915    8.707350  \n",
      "2   27.573216   20.710918   25.262832   27.353038   28.229928  \n",
      "3    0.027604    0.022804    0.022018    0.021861    0.022956  \n",
      "4  625.141435  298.655678  331.317425  411.474866  491.632308  \n",
      "\n",
      "[5 rows x 57 columns]\n",
      "Substance             0\n",
      "EDGAR Country Code    0\n",
      "Country               0\n",
      "1970                  0\n",
      "1971                  0\n",
      "1972                  0\n",
      "1973                  0\n",
      "1974                  0\n",
      "1975                  0\n",
      "1976                  0\n",
      "1977                  0\n",
      "1978                  0\n",
      "1979                  0\n",
      "1980                  0\n",
      "1981                  0\n",
      "1982                  0\n",
      "1983                  0\n",
      "1984                  0\n",
      "1985                  0\n",
      "1986                  0\n",
      "1987                  0\n",
      "1988                  0\n",
      "1989                  0\n",
      "1990                  0\n",
      "1991                  0\n",
      "1992                  0\n",
      "1993                  0\n",
      "1994                  0\n",
      "1995                  0\n",
      "1996                  0\n",
      "1997                  0\n",
      "1998                  0\n",
      "1999                  0\n",
      "2000                  0\n",
      "2001                  0\n",
      "2002                  0\n",
      "2003                  0\n",
      "2004                  0\n",
      "2005                  0\n",
      "2006                  0\n",
      "2007                  0\n",
      "2008                  0\n",
      "2009                  0\n",
      "2010                  0\n",
      "2011                  0\n",
      "2012                  0\n",
      "2013                  0\n",
      "2014                  0\n",
      "2015                  0\n",
      "2016                  0\n",
      "2017                  0\n",
      "2018                  0\n",
      "2019                  0\n",
      "2020                  0\n",
      "2021                  0\n",
      "2022                  0\n",
      "2023                  0\n",
      "dtype: int64\n"
     ]
    }
   ],
   "source": [
    "# Let's drop thos emissing rows\n",
    "# Drop rows where all columns are missing\n",
    "data_cleaned = data.dropna(how='all')\n",
    "\n",
    "# Display the first few rows of the cleaned dataset\n",
    "print(data_cleaned.head())\n",
    "\n",
    "# Check if the rows were successfully dropped\n",
    "print(data_cleaned.isnull().sum())"
   ]
  },
  {
   "cell_type": "code",
   "execution_count": 235,
   "metadata": {},
   "outputs": [
    {
     "name": "stdout",
     "output_type": "stream",
     "text": [
      "Substance              object\n",
      "EDGAR Country Code     object\n",
      "Country                object\n",
      "1970                  float64\n",
      "1971                  float64\n",
      "1972                  float64\n",
      "1973                  float64\n",
      "1974                  float64\n",
      "1975                  float64\n",
      "1976                  float64\n",
      "1977                  float64\n",
      "1978                  float64\n",
      "1979                  float64\n",
      "1980                  float64\n",
      "1981                  float64\n",
      "1982                  float64\n",
      "1983                  float64\n",
      "1984                  float64\n",
      "1985                  float64\n",
      "1986                  float64\n",
      "1987                  float64\n",
      "1988                  float64\n",
      "1989                  float64\n",
      "1990                  float64\n",
      "1991                  float64\n",
      "1992                  float64\n",
      "1993                  float64\n",
      "1994                  float64\n",
      "1995                  float64\n",
      "1996                  float64\n",
      "1997                  float64\n",
      "1998                  float64\n",
      "1999                  float64\n",
      "2000                  float64\n",
      "2001                  float64\n",
      "2002                  float64\n",
      "2003                  float64\n",
      "2004                  float64\n",
      "2005                  float64\n",
      "2006                  float64\n",
      "2007                  float64\n",
      "2008                  float64\n",
      "2009                  float64\n",
      "2010                  float64\n",
      "2011                  float64\n",
      "2012                  float64\n",
      "2013                  float64\n",
      "2014                  float64\n",
      "2015                  float64\n",
      "2016                  float64\n",
      "2017                  float64\n",
      "2018                  float64\n",
      "2019                  float64\n",
      "2020                  float64\n",
      "2021                  float64\n",
      "2022                  float64\n",
      "2023                  float64\n",
      "dtype: object\n"
     ]
    }
   ],
   "source": [
    "# Display the data types of all columns\n",
    "print(data.dtypes)"
   ]
  },
  {
   "cell_type": "code",
   "execution_count": 236,
   "metadata": {},
   "outputs": [
    {
     "name": "stdout",
     "output_type": "stream",
     "text": [
      "Index([         'Substance', 'EDGAR Country Code',            'Country',\n",
      "                       1970,                 1971,                 1972,\n",
      "                       1973,                 1974,                 1975,\n",
      "                       1976,                 1977,                 1978,\n",
      "                       1979,                 1980,                 1981,\n",
      "                       1982,                 1983,                 1984,\n",
      "                       1985,                 1986,                 1987,\n",
      "                       1988,                 1989,                 1990,\n",
      "                       1991,                 1992,                 1993,\n",
      "                       1994,                 1995,                 1996,\n",
      "                       1997,                 1998,                 1999,\n",
      "                       2000,                 2001,                 2002,\n",
      "                       2003,                 2004,                 2005,\n",
      "                       2006,                 2007,                 2008,\n",
      "                       2009,                 2010,                 2011,\n",
      "                       2012,                 2013,                 2014,\n",
      "                       2015,                 2016,                 2017,\n",
      "                       2018,                 2019,                 2020,\n",
      "                       2021,                 2022,                 2023],\n",
      "      dtype='object')\n"
     ]
    }
   ],
   "source": [
    "# Display the cleaned column names\n",
    "print(data_cleaned.columns)\n"
   ]
  },
  {
   "cell_type": "code",
   "execution_count": 237,
   "metadata": {},
   "outputs": [
    {
     "name": "stdout",
     "output_type": "stream",
     "text": [
      "Index([         'Substance', 'EDGAR Country Code',            'Country',\n",
      "                       1970,                 1971,                 1972,\n",
      "                       1973,                 1974,                 1975,\n",
      "                       1976,                 1977,                 1978,\n",
      "                       1979,                 1980,                 1981,\n",
      "                       1982,                 1983,                 1984,\n",
      "                       1985,                 1986,                 1987,\n",
      "                       1988,                 1989,                 1990,\n",
      "                       1991,                 1992,                 1993,\n",
      "                       1994,                 1995,                 1996,\n",
      "                       1997,                 1998,                 1999,\n",
      "                       2000,                 2001,                 2002,\n",
      "                       2003,                 2004,                 2005,\n",
      "                       2006,                 2007,                 2008,\n",
      "                       2009,                 2010,                 2011,\n",
      "                       2012,                 2013,                 2014,\n",
      "                       2015,                 2016,                 2017,\n",
      "                       2018,                 2019,                 2020,\n",
      "                       2021,                 2022,                 2023],\n",
      "      dtype='object')\n",
      "Substance             object\n",
      "EDGAR Country Code    object\n",
      "Country               object\n",
      "1970                  object\n",
      "1971                  object\n",
      "1972                  object\n",
      "1973                  object\n",
      "1974                  object\n",
      "1975                  object\n",
      "1976                  object\n",
      "1977                  object\n",
      "1978                  object\n",
      "1979                  object\n",
      "1980                  object\n",
      "1981                  object\n",
      "1982                  object\n",
      "1983                  object\n",
      "1984                  object\n",
      "1985                  object\n",
      "1986                  object\n",
      "1987                  object\n",
      "1988                  object\n",
      "1989                  object\n",
      "1990                  object\n",
      "1991                  object\n",
      "1992                  object\n",
      "1993                  object\n",
      "1994                  object\n",
      "1995                  object\n",
      "1996                  object\n",
      "1997                  object\n",
      "1998                  object\n",
      "1999                  object\n",
      "2000                  object\n",
      "2001                  object\n",
      "2002                  object\n",
      "2003                  object\n",
      "2004                  object\n",
      "2005                  object\n",
      "2006                  object\n",
      "2007                  object\n",
      "2008                  object\n",
      "2009                  object\n",
      "2010                  object\n",
      "2011                  object\n",
      "2012                  object\n",
      "2013                  object\n",
      "2014                  object\n",
      "2015                  object\n",
      "2016                  object\n",
      "2017                  object\n",
      "2018                  object\n",
      "2019                  object\n",
      "2020                  object\n",
      "2021                  object\n",
      "2022                  object\n",
      "2023                  object\n",
      "dtype: object\n"
     ]
    }
   ],
   "source": [
    "# Convert all columns to string types \n",
    "data_cleaned = data_cleaned.astype(str)\n",
    "\n",
    "# Clean column names\n",
    "#data.columns = data.columns.str.strip()  # Remove leading and trailing spaces\n",
    "#data.columns = data.columns.str.replace('\\n', ' ')  # Replace newline characters with spaces\n",
    "\n",
    "# Display the cleaned column names\n",
    "print(data.columns)\n",
    "\n",
    "# Display the data types of all columns\n",
    "print(data_cleaned.dtypes)"
   ]
  },
  {
   "cell_type": "code",
   "execution_count": 238,
   "metadata": {},
   "outputs": [
    {
     "name": "stdout",
     "output_type": "stream",
     "text": [
      "Index([1970, 1971, 1972, 1973, 1974, 1975, 1976, 1977, 1978, 1979, 1980, 1981,\n",
      "       1982, 1983, 1984, 1985, 1986, 1987, 1988, 1989, 1990, 1991, 1992, 1993,\n",
      "       1994, 1995, 1996, 1997, 1998, 1999, 2000, 2001, 2002, 2003, 2004, 2005,\n",
      "       2006, 2007, 2008, 2009, 2010, 2011, 2012, 2013, 2014, 2015, 2016, 2017,\n",
      "       2018, 2019, 2020, 2021, 2022, 2023],\n",
      "      dtype='object')\n"
     ]
    }
   ],
   "source": [
    "year_columns = data_cleaned.filter(regex=r'^\\d{4}$').columns\n",
    "print(year_columns)"
   ]
  },
  {
   "cell_type": "code",
   "execution_count": 239,
   "metadata": {},
   "outputs": [
    {
     "name": "stdout",
     "output_type": "stream",
     "text": [
      "[1970, 1971, 1972, 1973, 1974, 1975, 1976, 1977, 1978, 1979, 1980, 1981, 1982, 1983, 1984, 1985, 1986, 1987, 1988, 1989, 1990, 1991, 1992, 1993, 1994, 1995, 1996, 1997, 1998, 1999, 2000, 2001, 2002, 2003, 2004, 2005, 2006, 2007, 2008, 2009, 2010, 2011, 2012, 2013, 2014, 2015, 2016, 2017, 2018, 2019, 2020, 2021, 2022, 2023]\n",
      "1970\n"
     ]
    }
   ],
   "source": [
    "# Convert Index to list\n",
    "year_columns_list = year_columns.tolist()\n",
    "\n",
    "print(year_columns_list)\n",
    "\n",
    "# Access the column by its name\n",
    "print(year_columns_list[year_columns_list.index(1970)])\n"
   ]
  },
  {
   "cell_type": "code",
   "execution_count": 240,
   "metadata": {},
   "outputs": [],
   "source": [
    "# Drop rows where all columns are missing\n",
    "data_cleaned = data.dropna(how='all')"
   ]
  },
  {
   "cell_type": "markdown",
   "metadata": {},
   "source": [
    "Calculate Total CO2 Emissions and Percentage Contribution"
   ]
  },
  {
   "cell_type": "code",
   "execution_count": 241,
   "metadata": {},
   "outputs": [
    {
     "name": "stdout",
     "output_type": "stream",
     "text": [
      "                                Country     Total_CO2\n",
      "213                        GLOBAL TOTAL  1.424122e+06\n",
      "36                                China  2.779245e+05\n",
      "198                       United States  2.761683e+05\n",
      "211                                EU27  1.925624e+05\n",
      "160                              Russia  9.865735e+04\n",
      "99                                Japan  6.067946e+04\n",
      "90                                India  5.948510e+04\n",
      "50                              Germany  5.013919e+04\n",
      "69                       United Kingdom  2.899794e+04\n",
      "33                               Canada  2.683242e+04\n",
      "165              International Shipping  2.600512e+04\n",
      "196                             Ukraine  2.460650e+04\n",
      "66                    France and Monaco  2.174306e+04\n",
      "96   Italy, San Marino and the Holy See  2.143453e+04\n",
      "106                         South Korea  2.040593e+04\n",
      "151                              Poland  1.938792e+04\n",
      "92                                 Iran  1.933123e+04\n",
      "123                              Mexico  1.877987e+04\n",
      "207                        South Africa  1.868865e+04\n",
      "4                International Aviation  1.807156e+04\n"
     ]
    }
   ],
   "source": [
    "# Convert all columns to string types\n",
    "# This is because \n",
    "#data = data.astype(str)\n",
    "\n",
    "# Use regex to filter columns that contain the year (assuming years are four-digit numbers)\n",
    "year_columns = data.filter(regex=r'^\\d{4}$').columns\n",
    "\n",
    "# Convert year columns to numeric\n",
    "data[year_columns] = data[year_columns].apply(pd.to_numeric, errors='coerce')\n",
    "\n",
    "# Calculate total CO2 emissions for each country\n",
    "data['Total_CO2'] = data[year_columns].sum(axis=1)\n",
    "\n",
    "# Identify the top 20 most polluting countries\n",
    "top_20_countries = data.nlargest(20, 'Total_CO2')\n",
    "\n",
    "# Calculate percentage contribution for each year\n",
    "for year in year_columns:\n",
    "    total_emissions_year = data[year].sum()\n",
    "    top_20_countries[f'{year}_Percentage'] = (top_20_countries[year] / total_emissions_year) * 100\n",
    "\n",
    "# Display the top 20 countries with their total CO2 emissions and percentage contribution\n",
    "#print(top_20_countries[['Country', 'Total_CO2'] + [f'{year}_Percentage' for year in year_columns]])\n",
    "print(top_20_countries[['Country', 'Total_CO2']])\n"
   ]
  },
  {
   "cell_type": "code",
   "execution_count": 242,
   "metadata": {},
   "outputs": [
    {
     "name": "stdout",
     "output_type": "stream",
     "text": [
      "    Substance EDGAR Country Code       Country          1970          1971  \\\n",
      "213       CO2       GLOBAL TOTAL  GLOBAL TOTAL  15751.858044  15683.389817   \n",
      "\n",
      "             1972          1973          1974          1975          1976  \\\n",
      "213  16481.436077  17464.383654  17400.275859  17328.558005  18317.005105   \n",
      "\n",
      "     ...          2014          2015          2016          2017  \\\n",
      "213  ...  36427.769713  36300.466451  36423.660699  37047.472031   \n",
      "\n",
      "             2018          2019          2020          2021          2022  \\\n",
      "213  37974.553886  38066.434146  36154.308044  38121.014981  38246.624061   \n",
      "\n",
      "             2023  \n",
      "213  39023.937039  \n",
      "\n",
      "[1 rows x 57 columns]\n",
      "Global Total Co2 Emmisions - 1970: 15751.858044223\n",
      "Global Total Co2 Emmisions - 2023: 39023.937038738\n",
      "Grand Total of Emissions 1970 -2023: 1424121.724861018\n"
     ]
    }
   ],
   "source": [
    "# Return the Global Total for 1970 and 2023\n",
    "\n",
    "# Extract the row for Global Total\n",
    "global_total_row = data_cleaned[data_cleaned['Country'] == 'GLOBAL TOTAL']\n",
    "print(global_total_row)\n",
    "\n",
    "# Return the Global Total for 1970\n",
    "global_total_1970 = global_total_row[1970].values[0]\n",
    "# Return the Global Total for 2023\n",
    "global_total_2023 = global_total_row[2023].values[0]\n",
    "print(f\"Global Total Co2 Emmisions - 1970: {global_total_1970}\")\n",
    "print(f\"Global Total Co2 Emmisions - 2023: {global_total_2023}\")\n",
    "\n",
    "# Calculate the grand total of all years combined\n",
    "grand_total = global_total_row[year_columns].sum(axis=1).values[0]\n",
    "print(f\"Grand Total of Emissions 1970 -2023: {grand_total}\")  "
   ]
  },
  {
   "cell_type": "code",
   "execution_count": 243,
   "metadata": {},
   "outputs": [
    {
     "name": "stdout",
     "output_type": "stream",
     "text": [
      "  Substance EDGAR Country Code                 Country        1970  \\\n",
      "4       CO2                AIR  International Aviation  169.900399   \n",
      "\n",
      "         1971        1972        1973        1974        1975        1976  \\\n",
      "4  169.900399  179.759531  187.494406  180.478129  174.582471  174.907983   \n",
      "\n",
      "   ...        2014       2015        2016        2017        2018        2019  \\\n",
      "4  ...  507.505761  536.21368  560.173839  589.919315  615.937542  625.141435   \n",
      "\n",
      "         2020        2021        2022        2023  \n",
      "4  298.655678  331.317425  411.474866  491.632308  \n",
      "\n",
      "[1 rows x 57 columns]\n",
      "International Aviation Total Co2 Emmisions - 1970: 15751.858044223\n",
      "International Aviation Total Co2 Emmisions - 2023: 39023.937038738\n",
      "Total Emissions for International Aviation - 1970 -2023: 18071.560975227614\n"
     ]
    }
   ],
   "source": [
    "# Extract Figures for Aviation - 'International Aviation'\n",
    "\n",
    "# Extarct Aviation Row\n",
    "avaiation_row = data_cleaned[data_cleaned['Country'] == 'International Aviation']\n",
    "print(avaiation_row)\n",
    "\n",
    "# Return the Aviation Total for 1970\n",
    "avaiation_total_1970 = avaiation_row[1970].values[0]\n",
    "\n",
    "# Return the Global Total for 2023\n",
    "avaiation_total_2023 = avaiation_row[2023].values[0]\n",
    "print(f\"International Aviation Total Co2 Emmisions - 1970: {global_total_1970}\")\n",
    "print(f\"International Aviation Total Co2 Emmisions - 2023: {global_total_2023}\")\n",
    "\n",
    "# Total Emissions for International Aviation - 1970 -2023\n",
    "aviation_grand_total = avaiation_row[year_columns].sum(axis=1).values[0]\n",
    "print(f\"Total Emissions for International Aviation - 1970 -2023: {aviation_grand_total}\") \n",
    "\n",
    "\n"
   ]
  },
  {
   "cell_type": "code",
   "execution_count": 244,
   "metadata": {},
   "outputs": [
    {
     "data": {
      "image/png": "[encoded data removed]",
      "text/plain": [
       "<Figure size 1400x800 with 1 Axes>"
      ]
     },
     "metadata": {},
     "output_type": "display_data"
    }
   ],
   "source": [
    "# International Aviation as a % Global Total \n",
    "\n",
    "\n",
    "# Calculate the percentage of global emissions for each year\n",
    "aviation_percentage_emissions = {}  # Initialize an empty dictionary to store the percentage emissions for each year\n",
    "\n",
    "for year in year_columns:  # Loop through each year in the year_columns\n",
    "    global_total = global_total_row[year].values[0]  # Get the global total CO2 emissions for the current year\n",
    "    shipping_total = avaiation_row[year].values[0]  # Get the CO2 emissions for International Shipping for the current year\n",
    "    aviation_percentage_emissions[year] = (shipping_total / global_total) * 100  # Calculate the percentage of global emissions and store it in the dictionary\n",
    "\n",
    "\n",
    "# Convert the dictionary to a DataFrame for plotting\n",
    "aviation_percentage_emissions_df = pd.DataFrame(list(aviation_percentage_emissions.items()), columns=['Year', 'Percentage'])\n",
    "import matplotlib.pyplot as plt\n",
    "\n",
    "# Create a bar chart\n",
    "plt.figure(figsize=(14, 8))\n",
    "plt.bar(aviation_percentage_emissions_df['Year'], aviation_percentage_emissions_df['Percentage'], color='skyblue')\n",
    "plt.xlabel('Year')\n",
    "plt.ylabel('Percentage of Global CO2 Emissions (%)')\n",
    "plt.title('International Aviation CO2 Emissions as a Percentage of Global Emissions (1970-2023)')\n",
    "plt.xticks(rotation=45, ha='right')\n",
    "plt.show()"
   ]
  },
  {
   "cell_type": "code",
   "execution_count": 245,
   "metadata": {},
   "outputs": [
    {
     "name": "stdout",
     "output_type": "stream",
     "text": [
      "  Substance EDGAR Country Code                 Country        1970  \\\n",
      "4       CO2                AIR  International Aviation  169.900399   \n",
      "\n",
      "         1971        1972        1973        1974        1975        1976  \\\n",
      "4  169.900399  179.759531  187.494406  180.478129  174.582471  174.907983   \n",
      "\n",
      "   ...        2014       2015        2016        2017        2018        2019  \\\n",
      "4  ...  507.505761  536.21368  560.173839  589.919315  615.937542  625.141435   \n",
      "\n",
      "         2020        2021        2022        2023  \n",
      "4  298.655678  331.317425  411.474866  491.632308  \n",
      "\n",
      "[1 rows x 57 columns]\n",
      "International Shipping Total Co2 Emmisions - 1970: 353.84635222099\n",
      "International Shipping Total Co2 Emmisions - 2023: 706.32042124359\n",
      "Total Emissions for International Shipping - 1970 -2023: 26005.11654870811\n"
     ]
    }
   ],
   "source": [
    "# Extract Figures for = Shipping - 'International Shipping'\n",
    "\n",
    "# Extarct Shipping Row\n",
    "shipping_row = data_cleaned[data_cleaned['Country'] == 'International Shipping']\n",
    "print(avaiation_row)\n",
    "\n",
    "# Return the Aviation Total for 1970\n",
    "shipping_total_1970 = shipping_row[1970].values[0]\n",
    "print(f\"International Shipping Total Co2 Emmisions - 1970: {shipping_total_1970}\")\n",
    "\n",
    "# Return the Global Total for 2023\n",
    "shipping_total_2023 = shipping_row[2023].values[0]\n",
    "print(f\"International Shipping Total Co2 Emmisions - 2023: {shipping_total_2023}\")\n",
    "\n",
    "# Total Emissions for International Shipping - 1970 -2023\n",
    "shipping_grand_total = shipping_row[year_columns].sum(axis=1).values[0]\n",
    "print(f\"Total Emissions for International Shipping - 1970 -2023: {shipping_grand_total}\") \n"
   ]
  },
  {
   "cell_type": "code",
   "execution_count": 246,
   "metadata": {},
   "outputs": [
    {
     "data": {
      "image/png": "[encoded data removed]",
      "text/plain": [
       "<Figure size 1400x800 with 1 Axes>"
      ]
     },
     "metadata": {},
     "output_type": "display_data"
    }
   ],
   "source": [
    "# International Shipping as a % Global Total \n",
    "\n",
    "\n",
    "# Calculate the percentage of global emissions for each year\n",
    "percentage_emissions = {}  # Initialize an empty dictionary to store the percentage emissions for each year\n",
    "\n",
    "for year in year_columns:  # Loop through each year in the year_columns\n",
    "    global_total = global_total_row[year].values[0]  # Get the global total CO2 emissions for the current year\n",
    "    shipping_total = shipping_row[year].values[0]  # Get the CO2 emissions for International Shipping for the current year\n",
    "    percentage_emissions[year] = (shipping_total / global_total) * 100  # Calculate the percentage of global emissions and store it in the dictionary\n",
    "\n",
    "\n",
    "# Convert the dictionary to a DataFrame for plotting\n",
    "percentage_emissions_df = pd.DataFrame(list(percentage_emissions.items()), columns=['Year', 'Percentage'])\n",
    "import matplotlib.pyplot as plt\n",
    "\n",
    "# Create a bar chart\n",
    "plt.figure(figsize=(14, 8))\n",
    "plt.bar(percentage_emissions_df['Year'], percentage_emissions_df['Percentage'], color='skyblue')\n",
    "plt.xlabel('Year')\n",
    "plt.ylabel('Percentage of Global CO2 Emissions (%)')\n",
    "plt.title('International Shipping CO2 Emissions as a Percentage of Global Emissions (1970-2023)')\n",
    "plt.xticks(rotation=45, ha='right')\n",
    "plt.show()\n",
    "\n"
   ]
  },
  {
   "cell_type": "code",
   "execution_count": 247,
   "metadata": {},
   "outputs": [],
   "source": [
    "################################# REMOVE GLOBAL TOTAL FROM TOP 20 and TOP 5 ##################################"
   ]
  },
  {
   "cell_type": "markdown",
   "metadata": {},
   "source": [
    "# % of Total Emissions by the Top 20 - 1970"
   ]
  },
  {
   "cell_type": "code",
   "execution_count": 248,
   "metadata": {},
   "outputs": [
    {
     "name": "stdout",
     "output_type": "stream",
     "text": [
      "% of Total Emissions by the Top 20 - 1970: 91.59%\n"
     ]
    }
   ],
   "source": [
    "# Calculate total CO2 emissions for each country in 1970\n",
    "data['Total_1970'] = data[1970].astype(float)\n",
    "\n",
    "# Identify the top 20 most polluting countries in 1970\n",
    "top_20_1970 = data.nlargest(20, 'Total_1970')\n",
    "\n",
    "# Calculate the percentage of total emissions by the top 20 countries in 1970\n",
    "total_emissions_1970 = data[1970].astype(float).sum()\n",
    "top_20_percentage_1970 = (top_20_1970['Total_1970'].sum() / total_emissions_1970) * 100\n",
    "\n",
    "print(f\"% of Total Emissions by the Top 20 - 1970: {top_20_percentage_1970:.2f}%\")\n"
   ]
  },
  {
   "cell_type": "markdown",
   "metadata": {},
   "source": [
    "# % of Total Emissions by the Top 5 - 1970"
   ]
  },
  {
   "cell_type": "code",
   "execution_count": 249,
   "metadata": {},
   "outputs": [
    {
     "name": "stdout",
     "output_type": "stream",
     "text": [
      "% of Total Emissions by the Top 5 - 1970: 74.97%\n"
     ]
    }
   ],
   "source": [
    "# Identify the top 5 most polluting countries in 1970\n",
    "top_5_1970 = data.nlargest(5, 'Total_1970')\n",
    "\n",
    "# Calculate the percentage of total emissions by the top 5 countries in 1970\n",
    "top_5_percentage_1970 = (top_5_1970['Total_1970'].sum() / total_emissions_1970) * 100\n",
    "\n",
    "print(f\"% of Total Emissions by the Top 5 - 1970: {top_5_percentage_1970:.2f}%\")\n"
   ]
  },
  {
   "cell_type": "markdown",
   "metadata": {},
   "source": [
    "# % of Total Emissions by the Top 20 - 2023"
   ]
  },
  {
   "cell_type": "code",
   "execution_count": 250,
   "metadata": {},
   "outputs": [
    {
     "name": "stdout",
     "output_type": "stream",
     "text": [
      "% of Total Emissions by the Top 20 - 2023: 90.15%\n"
     ]
    }
   ],
   "source": [
    "# Calculate total CO2 emissions for each country in 2023\n",
    "data['Total_2023'] = data[2023].astype(float)\n",
    "\n",
    "# Identify the top 20 most polluting countries in 2023\n",
    "top_20_2023 = data.nlargest(20, 'Total_2023')\n",
    "\n",
    "# Calculate the percentage of total emissions by the top 20 countries in 2023\n",
    "total_emissions_2023 = data[2023].astype(float).sum()\n",
    "top_20_percentage_2023 = (top_20_2023['Total_2023'].sum() / total_emissions_2023) * 100\n",
    "\n",
    "print(f\"% of Total Emissions by the Top 20 - 2023: {top_20_percentage_2023:.2f}%\")\n"
   ]
  },
  {
   "cell_type": "markdown",
   "metadata": {},
   "source": [
    "# % of Total Emissions by the Top 5 - 2023"
   ]
  },
  {
   "cell_type": "code",
   "execution_count": 251,
   "metadata": {},
   "outputs": [
    {
     "name": "stdout",
     "output_type": "stream",
     "text": [
      "% of Total Emissions by the Top 5 - 2023: 77.50%\n",
      "    Substance EDGAR Country Code        Country          1970          1971  \\\n",
      "213       CO2       GLOBAL TOTAL   GLOBAL TOTAL  15751.858044  15683.389817   \n",
      "36        CO2                CHN          China    909.976242    913.419357   \n",
      "198       CO2                USA  United States   4595.062878   4459.919046   \n",
      "90        CO2                IND          India    213.934448    214.428120   \n",
      "211       CO2               EU27           EU27   3516.043820   3527.064466   \n",
      "\n",
      "             1972          1973          1974          1975          1976  \\\n",
      "213  16481.436077  17464.383654  17400.275859  17328.558005  18317.005105   \n",
      "36     973.909875   1013.661370   1031.209355   1182.598584   1230.625731   \n",
      "198   4710.777160   4896.845457   4727.681218   4515.615986   4816.015256   \n",
      "90     222.963236    221.937314    237.640939    253.201702    270.693578   \n",
      "211   3673.209130   3865.983444   3806.132347   3715.356555   3975.200616   \n",
      "\n",
      "     ...          2017          2018          2019          2020  \\\n",
      "213  ...  37047.472031  37974.553886  38066.434146  36154.308044   \n",
      "36   ...  11037.127069  11572.416381  11850.592876  12022.432962   \n",
      "198  ...   4959.764867   5118.114833   4966.950968   4466.042820   \n",
      "90   ...   2433.783081   2573.119402   2542.035076   2318.947665   \n",
      "211  ...   3118.707522   3049.511170   2908.156852   2641.187916   \n",
      "\n",
      "             2021          2022          2023     Total_CO2    Total_1970  \\\n",
      "213  38121.014981  38246.624061  39023.937039  1.424122e+06  15751.858044   \n",
      "36   12621.614750  12526.826281  13259.638954  2.779245e+05    909.976242   \n",
      "198   4755.183784   4786.630553   4682.039414  2.761683e+05   4595.062878   \n",
      "90    2548.483265   2740.820631   2955.181684  5.948510e+04    213.934448   \n",
      "211   2833.755059   2756.906302   2512.067780  1.925624e+05   3516.043820   \n",
      "\n",
      "       Total_2023  \n",
      "213  39023.937039  \n",
      "36   13259.638954  \n",
      "198   4682.039414  \n",
      "90    2955.181684  \n",
      "211   2512.067780  \n",
      "\n",
      "[5 rows x 60 columns]\n"
     ]
    }
   ],
   "source": [
    "# Identify the top 5 most polluting countries in 2023\n",
    "top_5_2023 = data.nlargest(5, 'Total_2023')\n",
    "\n",
    "# Calculate the percentage of total emissions by the top 5 countries in 2023\n",
    "top_5_percentage_2023 = (top_5_2023['Total_2023'].sum() / total_emissions_2023) * 100\n",
    "\n",
    "print(f\"% of Total Emissions by the Top 5 - 2023: {top_5_percentage_2023:.2f}%\")\n",
    "print(top_5_2023)\n"
   ]
  }
 ],
 "metadata": {
  "kernelspec": {
   "display_name": "Python 3",
   "language": "python",
   "name": "python3"
  },
  "language_info": {
   "codemirror_mode": {
    "name": "ipython",
    "version": 3
   },
   "file_extension": ".py",
   "mimetype": "text/x-python",
   "name": "python",
   "nbconvert_exporter": "python",
   "pygments_lexer": "ipython3",
   "version": "3.12.4"
  }
 },
 "nbformat": 4,
 "nbformat_minor": 2
}
