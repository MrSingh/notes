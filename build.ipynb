{
 "cells": [
  {
   "cell_type": "code",
   "execution_count": 1,
   "metadata": {},
   "outputs": [],
   "source": [
    "# Load libraries\n",
    "import os\n",
    "import re\n",
    "import fileinput\n",
    "import sys\n",
    "import shutil\n",
    "from pathlib import Path\n",
    "import os.path"
   ]
  },
  {
   "cell_type": "markdown",
   "metadata": {},
   "source": [
    "## Convert Juypter NoteBooks to Markdown"
   ]
  },
  {
   "cell_type": "code",
   "execution_count": 4,
   "metadata": {},
   "outputs": [],
   "source": [
    "# ORIGINAL CODE #\n",
    "\n",
    "path = 'content/'\n",
    "# Verify that jupyter nbconvert is available\n",
    "# print(\"Checking if jupyter nbconvert is available...\")\n",
    "# result = os.system('jupyter nbconvert --version')\n",
    "\n",
    "# Find all jupyter notebooks in all content folders\n",
    "all_ipynb_files = [os.path.join(root, name)\n",
    "                   for root, dirs, files in os.walk(path)\n",
    "                       for name in files\n",
    "                           if name.endswith((\".ipynb\"))]\n",
    "\n",
    "# Remove all notebooks from checkpoint folders\n",
    "ipynb_files = [ x for x in all_ipynb_files if \".ipynb_checkpoints\" not in x ]\n",
    "\n",
    "# For each file\n",
    "for file in ipynb_files:\n",
    "    # Convert into markdown\n",
    "    os.system('jupyter nbconvert --to markdown {file}'.format(file=file))\n"
   ]
  },
  {
   "cell_type": "markdown",
   "metadata": {},
   "source": [
    "## Move image files from generated folders to static images folders"
   ]
  },
  {
   "cell_type": "code",
   "execution_count": 3,
   "metadata": {},
   "outputs": [
    {
     "name": "stderr",
     "output_type": "stream",
     "text": [
      "<>:9: SyntaxWarning: invalid escape sequence '\\i'\n",
      "<>:9: SyntaxWarning: invalid escape sequence '\\i'\n",
      "C:\\Users\\pthuk\\AppData\\Local\\Temp\\ipykernel_26540\\1408442918.py:9: SyntaxWarning: invalid escape sequence '\\i'\n",
      "  target_dir = 'static\\images'\n"
     ]
    },
    {
     "name": "stdout",
     "output_type": "stream",
     "text": [
      "brooks_data_analysis_files\n"
     ]
    },
    {
     "name": "stderr",
     "output_type": "stream",
     "text": [
      "C:\\Users\\pthuk\\AppData\\Local\\Temp\\ipykernel_26540\\1408442918.py:9: SyntaxWarning: invalid escape sequence '\\i'\n",
      "  target_dir = 'static\\images'\n"
     ]
    },
    {
     "ename": "Error",
     "evalue": "Destination path 'static\\images\\brooks_data_analysis_files\\brooks_data_analysis_files' already exists",
     "output_type": "error",
     "traceback": [
      "\u001b[1;31m---------------------------------------------------------------------------\u001b[0m",
      "\u001b[1;31mError\u001b[0m                                     Traceback (most recent call last)",
      "Cell \u001b[1;32mIn[3], line 30\u001b[0m\n\u001b[0;32m     24\u001b[0m new_folder \u001b[38;5;241m=\u001b[39m os\u001b[38;5;241m.\u001b[39mpath\u001b[38;5;241m.\u001b[39mjoin(target_dir, split_path[\u001b[38;5;241m-\u001b[39m\u001b[38;5;241m1\u001b[39m])  \n\u001b[0;32m     25\u001b[0m \u001b[38;5;66;03m# TODO >> CHECK TARGET DIRECTORY EXISTS IF IT DOES OWERRITE IT WITH COPY OTHERWISE USE MOVE\u001b[39;00m\n\u001b[0;32m     26\u001b[0m \u001b[38;5;66;03m# TODO >> Comply FOLDER LIST and then use that to find list of Markdown files\u001b[39;00m\n\u001b[0;32m     27\u001b[0m \u001b[38;5;66;03m# TODO >> Change the Links in those files\u001b[39;00m\n\u001b[0;32m     28\u001b[0m \u001b[38;5;66;03m#\u001b[39;00m\n\u001b[0;32m     29\u001b[0m \u001b[38;5;66;03m#\u001b[39;00m\n\u001b[1;32m---> 30\u001b[0m \u001b[43mshutil\u001b[49m\u001b[38;5;241;43m.\u001b[39;49m\u001b[43mmove\u001b[49m\u001b[43m(\u001b[49m\u001b[43mfolder_name\u001b[49m\u001b[43m,\u001b[49m\u001b[43m \u001b[49m\u001b[43mnew_folder\u001b[49m\u001b[43m)\u001b[49m  \n",
      "File \u001b[1;32mc:\\Python312\\Lib\\shutil.py:845\u001b[0m, in \u001b[0;36mmove\u001b[1;34m(src, dst, copy_function)\u001b[0m\n\u001b[0;32m    842\u001b[0m     real_dst \u001b[38;5;241m=\u001b[39m os\u001b[38;5;241m.\u001b[39mpath\u001b[38;5;241m.\u001b[39mjoin(dst, _basename(src))\n\u001b[0;32m    844\u001b[0m     \u001b[38;5;28;01mif\u001b[39;00m os\u001b[38;5;241m.\u001b[39mpath\u001b[38;5;241m.\u001b[39mexists(real_dst):\n\u001b[1;32m--> 845\u001b[0m         \u001b[38;5;28;01mraise\u001b[39;00m Error(\u001b[38;5;124m\"\u001b[39m\u001b[38;5;124mDestination path \u001b[39m\u001b[38;5;124m'\u001b[39m\u001b[38;5;132;01m%s\u001b[39;00m\u001b[38;5;124m'\u001b[39m\u001b[38;5;124m already exists\u001b[39m\u001b[38;5;124m\"\u001b[39m \u001b[38;5;241m%\u001b[39m real_dst)\n\u001b[0;32m    846\u001b[0m \u001b[38;5;28;01mtry\u001b[39;00m:\n\u001b[0;32m    847\u001b[0m     os\u001b[38;5;241m.\u001b[39mrename(src, real_dst)\n",
      "\u001b[1;31mError\u001b[0m: Destination path 'static\\images\\brooks_data_analysis_files\\brooks_data_analysis_files' already exists"
     ]
    }
   ],
   "source": [
    "## THIS IS BEING MODIFIED IN THE BUILD BRANCH\n",
    "\n",
    "# https://linuxize.com/post/python-check-if-file-exists/ \n",
    "# https://stackoverflow.com/questions/82831/how-do-i-check-whether-a-file-exists-without-exceptions\n",
    "\n",
    "\n",
    "# Move all Juypter Notebook Image files to Images Folder   \n",
    "source_dir = 'content'\n",
    "target_dir = 'static\\images'\n",
    "\n",
    "# Get all folders in directory\n",
    "folders = [x[0] for x in os.walk(source_dir)]\n",
    "# Narrow it to file folders with \"_files\" # Ignores Test for now too - TODO Move to a sperate repository\n",
    "folders = [i for i in folders if \".ipynb_checkpoints\" not in i and \"test\" not in i and \"_files\" in i]\n",
    "\n",
    "\n",
    "for folder_name in folders:\n",
    "    path = folder_name\n",
    "    split_path = path.split(os.path.sep)\n",
    "    print(split_path[-1])\n",
    "    #../../images/brooks_data_analysis_files/brooks_data_analysis_4_0.svg\n",
    "    # Takes the File_foldername - doe'snt matter how nested it is and combines it with the target daractory and moves it there\n",
    "    # In therey this should make the \n",
    "    new_folder = os.path.join(target_dir, split_path[-1])  \n",
    "    # TODO >> CHECK TARGET DIRECTORY EXISTS IF IT DOES OWERRITE IT WITH COPY OTHERWISE USE MOVE\n",
    "    # TODO >> Comply FOLDER LIST and then use that to find list of Markdown files\n",
    "    # TODO >> Change the Links in those files\n",
    "    #\n",
    "    #\n",
    "    shutil.move(folder_name, new_folder)  \n",
    "\n"
   ]
  },
  {
   "cell_type": "markdown",
   "metadata": {},
   "source": [
    "## Check generated folders are empty before deleting"
   ]
  },
  {
   "cell_type": "code",
   "execution_count": 4,
   "metadata": {},
   "outputs": [],
   "source": [
    "# Delete folders # Call this folder once the files have been moved\n",
    "def delete_folders(folder_name):\n",
    "    # check folder is empty before deleting\n",
    "    if '_files' in folder_name:\n",
    "        if not os.listdir(folder_name):\n",
    "            print(\"empty\")\n",
    "        else:\n",
    "            shutil.rmtree(folder_name)\n",
    "            print(folder_name)\n"
   ]
  },
  {
   "cell_type": "code",
   "execution_count": 5,
   "metadata": {},
   "outputs": [
    {
     "ename": "FileNotFoundError",
     "evalue": "[WinError 3] The system cannot find the path specified: 'docs/python/brooks_data_analysis_files'",
     "output_type": "error",
     "traceback": [
      "\u001b[1;31m---------------------------------------------------------------------------\u001b[0m",
      "\u001b[1;31mFileNotFoundError\u001b[0m                         Traceback (most recent call last)",
      "Cell \u001b[1;32mIn[5], line 1\u001b[0m\n\u001b[1;32m----> 1\u001b[0m \u001b[43mdelete_folders\u001b[49m\u001b[43m(\u001b[49m\u001b[38;5;124;43m'\u001b[39;49m\u001b[38;5;124;43mdocs/python/brooks_data_analysis_files\u001b[39;49m\u001b[38;5;124;43m'\u001b[39;49m\u001b[43m)\u001b[49m\n",
      "Cell \u001b[1;32mIn[4], line 5\u001b[0m, in \u001b[0;36mdelete_folders\u001b[1;34m(folder_name)\u001b[0m\n\u001b[0;32m      2\u001b[0m \u001b[38;5;28;01mdef\u001b[39;00m \u001b[38;5;21mdelete_folders\u001b[39m(folder_name):\n\u001b[0;32m      3\u001b[0m     \u001b[38;5;66;03m# check folder is empty before deleting\u001b[39;00m\n\u001b[0;32m      4\u001b[0m     \u001b[38;5;28;01mif\u001b[39;00m \u001b[38;5;124m'\u001b[39m\u001b[38;5;124m_files\u001b[39m\u001b[38;5;124m'\u001b[39m \u001b[38;5;129;01min\u001b[39;00m folder_name:\n\u001b[1;32m----> 5\u001b[0m         \u001b[38;5;28;01mif\u001b[39;00m \u001b[38;5;129;01mnot\u001b[39;00m \u001b[43mos\u001b[49m\u001b[38;5;241;43m.\u001b[39;49m\u001b[43mlistdir\u001b[49m\u001b[43m(\u001b[49m\u001b[43mfolder_name\u001b[49m\u001b[43m)\u001b[49m:\n\u001b[0;32m      6\u001b[0m             \u001b[38;5;28mprint\u001b[39m(\u001b[38;5;124m\"\u001b[39m\u001b[38;5;124mempty\u001b[39m\u001b[38;5;124m\"\u001b[39m)\n\u001b[0;32m      7\u001b[0m         \u001b[38;5;28;01melse\u001b[39;00m:\n",
      "\u001b[1;31mFileNotFoundError\u001b[0m: [WinError 3] The system cannot find the path specified: 'docs/python/brooks_data_analysis_files'"
     ]
    }
   ],
   "source": [
    "delete_folders('docs/python/brooks_data_analysis_files')"
   ]
  },
  {
   "cell_type": "markdown",
   "metadata": {},
   "source": [
    "# Use folder names to find md files of that name and change links i those folders\n",
    "for folder_name in folders:\n",
    "    if '_files' in folder_name:\n",
    "        print(folder_name)\n",
    "        # name_1 = folder_name.split(\"_files\")\n",
    "        # print(name_1)\n",
    "        name_2 = folder_name.split(\"\\\\\")\n",
    "        print(name_2)"
   ]
  },
  {
   "cell_type": "code",
   "execution_count": null,
   "metadata": {},
   "outputs": [],
   "source": []
  }
 ],
 "metadata": {
  "kernelspec": {
   "display_name": "Python 3",
   "language": "python",
   "name": "python3"
  },
  "language_info": {
   "codemirror_mode": {
    "name": "ipython",
    "version": 3
   },
   "file_extension": ".py",
   "mimetype": "text/x-python",
   "name": "python",
   "nbconvert_exporter": "python",
   "pygments_lexer": "ipython3",
   "version": "3.12.4"
  }
 },
 "nbformat": 4,
 "nbformat_minor": 4
}
