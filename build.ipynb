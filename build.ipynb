{
 "cells": [
  {
   "cell_type": "code",
   "execution_count": 1,
   "metadata": {},
   "outputs": [],
   "source": [
    "# Load libraries\n",
    "import os\n",
    "import re\n",
    "import fileinput\n",
    "import sys\n",
    "import shutil\n",
    "from pathlib import Path\n",
    "import os.path\n"
   ]
  },
  {
   "cell_type": "markdown",
   "metadata": {},
   "source": [
    "## Convert Juypter NoteBooks to Markdown"
   ]
  },
  {
   "cell_type": "code",
   "execution_count": null,
   "metadata": {},
   "outputs": [],
   "source": [
    "path = 'content/'\n",
    "\n",
    "# Find all jupyter notebooks in all content folders\n",
    "all_ipynb_files = [os.path.join(root, name)\n",
    "                   for root, dirs, files in os.walk(path)\n",
    "                       for name in files\n",
    "                           if name.endswith((\".ipynb\"))]\n",
    "\n",
    "# Remove all notebooks from checkpoint folders\n",
    "ipynb_files = [ x for x in all_ipynb_files if \".ipynb_checkpoints\" not in x ]\n",
    "\n",
    "# For each file\n",
    "for file in ipynb_files:\n",
    "    # Convert into markdown\n",
    "    os.system('jupyter nbconvert --to markdown {file}'.format(file=file))\n"
   ]
  },
  {
   "cell_type": "markdown",
   "metadata": {},
   "source": [
    "## Move image files from generated folders to static images folders"
   ]
  },
  {
   "cell_type": "code",
   "execution_count": 6,
   "metadata": {},
   "outputs": [
    {
     "name": "stdout",
     "output_type": "stream",
     "text": [
      "brooks_data_analysis_files\n"
     ]
    }
   ],
   "source": [
    "## THIS IS BEING MODIFIED IN THE BUILD BRANCH\n",
    "\n",
    "# https://linuxize.com/post/python-check-if-file-exists/ \n",
    "# https://stackoverflow.com/questions/82831/how-do-i-check-whether-a-file-exists-without-exceptions\n",
    "\n",
    "\n",
    "# Move all Juypter Notebook Image files to Images Folder   \n",
    "source_dir = 'content'\n",
    "target_dir = 'static\\images'\n",
    "\n",
    "# Get all folders in directory\n",
    "folders = [x[0] for x in os.walk(source_dir)]\n",
    "# Narrow it to file folders with \"_files\" # Ignores Test for now too - TODO Move to a sperate repository\n",
    "folders = [i for i in folders if \".ipynb_checkpoints\" not in i and \"test\" not in i and \"_files\" in i]\n",
    "\n",
    "\n",
    "for folder_name in folders:\n",
    "    path = folder_name\n",
    "    split_path = path.split(os.path.sep)\n",
    "    print(split_path[-1])\n",
    "    #../../images/brooks_data_analysis_files/brooks_data_analysis_4_0.svg\n",
    "    # Takes the File_foldername - doe'snt matter how nested it is and combines it with the target daractory and moves it there\n",
    "    # In therey this should make the \n",
    "    new_folder = os.path.join(target_dir, split_path[-1])  \n",
    "    # TODO >> CHECK TARGET DIRECTORY EXISTS IF IT DOES OWERRITE IT WITH COPY OTHERWISE USE MOVE\n",
    "    # TODO >> Comply FOLDER LIST and then use that to find list of Markdown files\n",
    "    # TODO >> Change the Links in those files\n",
    "    #\n",
    "    #\n",
    "    shutil.move(folder_name, new_folder)  \n",
    "\n"
   ]
  },
  {
   "cell_type": "markdown",
   "metadata": {},
   "source": [
    "## Check generated folders are empty before deleting"
   ]
  },
  {
   "cell_type": "code",
   "execution_count": null,
   "metadata": {},
   "outputs": [],
   "source": [
    "# Delete folders # Call this folder once the files have been moved\n",
    "def delete_folders(folder_name):\n",
    "    # check folder is empty before deleting\n",
    "    if '_files' in folder_name:\n",
    "        if not os.listdir(folder_name):\n",
    "            print(\"empty\")\n",
    "        else:\n",
    "            shutil.rmtree(folder_name)\n",
    "            print(folder_name)\n"
   ]
  },
  {
   "cell_type": "code",
   "execution_count": null,
   "metadata": {},
   "outputs": [],
   "source": [
    "delete_folders('docs/python/brooks_data_analysis_files')"
   ]
  },
  {
   "cell_type": "markdown",
   "metadata": {},
   "source": [
    "# Use folder names to find md files of that name and change links i those folders\n",
    "for folder_name in folders:\n",
    "    if '_files' in folder_name:\n",
    "        print(folder_name)\n",
    "        # name_1 = folder_name.split(\"_files\")\n",
    "        # print(name_1)\n",
    "        name_2 = folder_name.split(\"\\\\\")\n",
    "        print(name_2)"
   ]
  },
  {
   "cell_type": "code",
   "execution_count": null,
   "metadata": {},
   "outputs": [],
   "source": []
  }
 ],
 "metadata": {
  "kernelspec": {
   "display_name": "Python 3",
   "language": "python",
   "name": "python3"
  },
  "language_info": {
   "codemirror_mode": {
    "name": "ipython",
    "version": 3
   },
   "file_extension": ".py",
   "mimetype": "text/x-python",
   "name": "python",
   "nbconvert_exporter": "python",
   "pygments_lexer": "ipython3",
   "version": "3.9.0"
  }
 },
 "nbformat": 4,
 "nbformat_minor": 4
}
