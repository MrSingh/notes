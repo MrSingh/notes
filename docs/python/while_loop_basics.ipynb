{
 "metadata": {
  "language_info": {
   "codemirror_mode": {
    "name": "ipython",
    "version": 3
   },
   "file_extension": ".py",
   "mimetype": "text/x-python",
   "name": "python",
   "nbconvert_exporter": "python",
   "pygments_lexer": "ipython3",
   "version": "3.9.0-final"
  },
  "orig_nbformat": 2,
  "kernelspec": {
   "name": "python3",
   "display_name": "Python 3.9.0 64-bit",
   "metadata": {
    "interpreter": {
     "hash": "ee5cc6fef2d70a7e71ee3826687cbd150f18158e0b1eef11d4f4f92bb920e304"
    }
   }
  }
 },
 "nbformat": 4,
 "nbformat_minor": 2,
 "cells": [
  {
   "source": [
    "---\n",
    "title: \"While Loops Basics\"\n",
    "author: \"Puneet Thukral\"\n",
    "date: 2021-02-05T12:44:38\n",
    "slug: \"while_loop_basics\"\n",
    "draft: false\n",
    "---\n",
    "\n",
    "***"
   ],
   "cell_type": "markdown",
   "metadata": {}
  },
  {
   "source": [
    "## Simple While Loop"
   ],
   "cell_type": "markdown",
   "metadata": {}
  },
  {
   "cell_type": "code",
   "execution_count": 1,
   "metadata": {},
   "outputs": [
    {
     "output_type": "stream",
     "name": "stdout",
     "text": [
      "0\n1\n2\n3\n4\n5\n6\n7\n8\n9\n"
     ]
    }
   ],
   "source": [
    "# while loops until a condition is met - when x = 10 the condition is no longer met and the while loop stops\n",
    "# Inistalise counter\n",
    "i = 0\n",
    "\n",
    "while i < 10:\n",
    "    print(i)\n",
    "    i += 1"
   ]
  },
  {
   "source": [
    "## While Loop To Sum"
   ],
   "cell_type": "markdown",
   "metadata": {}
  },
  {
   "cell_type": "code",
   "execution_count": 2,
   "metadata": {},
   "outputs": [
    {
     "output_type": "stream",
     "name": "stdout",
     "text": [
      "Inside Loop | Sum =  0\nInside Loop | Sum =  1\nInside Loop | Sum =  3\nInside Loop | Sum =  6\nInside Loop | Sum =  10\nInside Loop | Sum =  15\nInside Loop | Sum =  21\nInside Loop | Sum =  28\nInside Loop | Sum =  36\nInside Loop | Sum =  45\nOutside | Loop Sum =  45\n"
     ]
    }
   ],
   "source": [
    "i = 0\n",
    "sum = 0\n",
    "\n",
    "while i < 10:\n",
    "    sum = sum + i\n",
    "    i += 1 # update counter\n",
    "    print(\"Inside Loop | Sum = \", sum)\n",
    "print(\"Outside | Loop Sum = \", sum)"
   ]
  },
  {
   "source": [
    "## While loop with condition and nested if statement"
   ],
   "cell_type": "markdown",
   "metadata": {}
  },
  {
   "cell_type": "code",
   "execution_count": 3,
   "metadata": {},
   "outputs": [
    {
     "output_type": "stream",
     "name": "stdout",
     "text": [
      "0\n1\n2\n3\n4\n"
     ]
    }
   ],
   "source": [
    "# while loops until a condition is met - along with a nested if condition therefore if x is less than 10 and x is less than 5 ends the loop\n",
    "\n",
    "x = 0\n",
    "\n",
    "while x < 10:\n",
    "    if x == 5:\n",
    "        break\n",
    "    print(x)\n",
    "    x += 1"
   ]
  },
  {
   "source": [
    "## Infinite Loop example - Commeneted out!"
   ],
   "cell_type": "markdown",
   "metadata": {}
  },
  {
   "cell_type": "code",
   "execution_count": 4,
   "metadata": {},
   "outputs": [],
   "source": [
    "# Infinite Loop - DON'T DO IT!\n",
    "# x = 0\n",
    "\n",
    "# while True:\n",
    "#     print(x)\n",
    "#     x += 1\n"
   ]
  }
 ]
}