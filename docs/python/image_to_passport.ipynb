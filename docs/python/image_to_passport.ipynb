{
 "cells": [
  {
   "cell_type": "code",
   "execution_count": null,
   "metadata": {},
   "outputs": [],
   "source": [
    "import cv2\n",
    "from PIL import Image"
   ]
  },
  {
   "cell_type": "code",
   "execution_count": null,
   "metadata": {},
   "outputs": [],
   "source": [
    "# Load the image\n",
    "image_path = 'data/amrit_full.jpg'\n",
    "image = cv2.imread(image_path)"
   ]
  },
  {
   "cell_type": "code",
   "execution_count": null,
   "metadata": {},
   "outputs": [],
   "source": [
    "# Define the size for the passport photo (e.g., 2x2 inches at 300 DPI)\n",
    "passport_width = int(35 * 11.81)  # 35mm to pixels\n",
    "passport_height = int(45 * 11.81)  # 45mm to pixels"
   ]
  },
  {
   "cell_type": "code",
   "execution_count": null,
   "metadata": {},
   "outputs": [],
   "source": [
    "# Resize the image\n",
    "resized_image = cv2.resize(image, (passport_width, passport_height))"
   ]
  },
  {
   "cell_type": "code",
   "execution_count": null,
   "metadata": {},
   "outputs": [],
   "source": [
    "# Save the resized image\n",
    "cv2.imwrite('data/amrit_passport.jpg', resized_image)"
   ]
  },
  {
   "cell_type": "code",
   "execution_count": null,
   "metadata": {},
   "outputs": [],
   "source": [
    "# Optional: Convert to RGB and save using Pillow for better quality\n",
    "passport_image = Image.open('data/amrit_passport.jpg')\n",
    "passport_image = passport_image.convert('RGB')\n",
    "passport_image.save('data/amrit_passport_final.jpg', 'JPEG', quality=95)\n",
    "\n",
    "print(\"Passport photo saved as 'amrit_passport_final.jpg'\")"
   ]
  }
 ],
 "metadata": {
  "kernelspec": {
   "display_name": "Python 3",
   "language": "python",
   "name": "python3"
  },
  "language_info": {
   "codemirror_mode": {
    "name": "ipython",
    "version": 3
   },
   "file_extension": ".py",
   "mimetype": "text/x-python",
   "name": "python",
   "nbconvert_exporter": "python",
   "pygments_lexer": "ipython3",
   "version": "3.12.4"
  }
 },
 "nbformat": 4,
 "nbformat_minor": 2
}
