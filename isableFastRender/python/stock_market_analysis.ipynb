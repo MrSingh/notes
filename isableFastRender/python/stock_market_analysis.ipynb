{
 "cells": [
  {
   "cell_type": "code",
   "execution_count": 32,
   "metadata": {},
   "outputs": [],
   "source": [
    "# Import\n",
    "# In case of a an 'No module named' error, install dash, pandas etc\n",
    "# pip install dash\n",
    "import dash\n",
    "import seaborn as sns\n",
    "import matplotlib.pyplot as plt\n",
    "from dash import dcc, html\n",
    "import plotly.express as px\n",
    "import plotly.graph_objs as go\n",
    "import pandas as pd\n",
    "import yfinance as yf"
   ]
  },
  {
   "cell_type": "code",
   "execution_count": 23,
   "metadata": {},
   "outputs": [
    {
     "name": "stderr",
     "output_type": "stream",
     "text": [
      "[*********************100%***********************]  6 of 6 completed\n"
     ]
    }
   ],
   "source": [
    "# Fetch data\n",
    "#S&P 500 - ^GSPC\n",
    "#S&P 500 Vanguard - VOO\n",
    "#S&P 500 Black Rock - BSPIX\n",
    "#Vanguard Russel Index ETF - VTWO\n",
    "#FTSE 100 - ^FTSE\n",
    "#FTSE 200 - ^FTMC\n",
    "# You can define the various tickers - ticker_symbol = '^GSPC'\n",
    "tickers = ['^GSPC', 'VOO', 'BSPIX', 'VTWO', '^FTSE', '^FTMC']\n",
    "df = yf.download(tickers,  start='2020-01-01', end='2024-10-11')\n",
    "#data1 = yf.download('AAPL', start='2020-01-01', end='2023-01-01')\n"
   ]
  },
  {
   "cell_type": "code",
   "execution_count": 24,
   "metadata": {},
   "outputs": [
    {
     "name": "stdout",
     "output_type": "stream",
     "text": [
      "MultiIndex([('Adj Close', 'BSPIX'),\n",
      "            ('Adj Close',   'VOO'),\n",
      "            ('Adj Close',  'VTWO'),\n",
      "            ('Adj Close', '^FTMC'),\n",
      "            ('Adj Close', '^FTSE'),\n",
      "            ('Adj Close', '^GSPC'),\n",
      "            (    'Close', 'BSPIX'),\n",
      "            (    'Close',   'VOO'),\n",
      "            (    'Close',  'VTWO'),\n",
      "            (    'Close', '^FTMC'),\n",
      "            (    'Close', '^FTSE'),\n",
      "            (    'Close', '^GSPC'),\n",
      "            (     'High', 'BSPIX'),\n",
      "            (     'High',   'VOO'),\n",
      "            (     'High',  'VTWO'),\n",
      "            (     'High', '^FTMC'),\n",
      "            (     'High', '^FTSE'),\n",
      "            (     'High', '^GSPC'),\n",
      "            (      'Low', 'BSPIX'),\n",
      "            (      'Low',   'VOO'),\n",
      "            (      'Low',  'VTWO'),\n",
      "            (      'Low', '^FTMC'),\n",
      "            (      'Low', '^FTSE'),\n",
      "            (      'Low', '^GSPC'),\n",
      "            (     'Open', 'BSPIX'),\n",
      "            (     'Open',   'VOO'),\n",
      "            (     'Open',  'VTWO'),\n",
      "            (     'Open', '^FTMC'),\n",
      "            (     'Open', '^FTSE'),\n",
      "            (     'Open', '^GSPC'),\n",
      "            (   'Volume', 'BSPIX'),\n",
      "            (   'Volume',   'VOO'),\n",
      "            (   'Volume',  'VTWO'),\n",
      "            (   'Volume', '^FTMC'),\n",
      "            (   'Volume', '^FTSE'),\n",
      "            (   'Volume', '^GSPC')],\n",
      "           names=['Price', 'Ticker'])\n"
     ]
    }
   ],
   "source": [
    "# Convert Closing Data to a Common Scale\n",
    "# The base value will be set at the start date of the data set. \n",
    "# For each date, divide the closing price by the base value and multiply by 100.\n",
    "# This converts the data into a percentage of the base value. \n",
    "\n",
    "# Create Columns for Each of the New Values\n",
    "#print(data.columns)\n",
    "# Display the first few rows of the data\n",
    "#print(data.head())\n",
    "print(df.columns)"
   ]
  },
  {
   "cell_type": "code",
   "execution_count": 27,
   "metadata": {},
   "outputs": [],
   "source": [
    "# Add Normalised Columns\n",
    "\n",
    "# Normalize 'Adj Close' columns \n",
    "for ticker in ['BSPIX', 'VOO', 'VTWO', '^FTMC', '^FTSE', '^GSPC']:\n",
    "    base_value = df[('Adj Close', ticker)].iloc[0]\n",
    "    normalized_column = (df[('Adj Close', ticker)] / base_value) * 100\n",
    "    df[('Normalized', ticker)] = normalized_column"
   ]
  },
  {
   "cell_type": "code",
   "execution_count": 28,
   "metadata": {},
   "outputs": [
    {
     "name": "stdout",
     "output_type": "stream",
     "text": [
      "MultiIndex([( 'Adj Close', 'BSPIX'),\n",
      "            ( 'Adj Close',   'VOO'),\n",
      "            ( 'Adj Close',  'VTWO'),\n",
      "            ( 'Adj Close', '^FTMC'),\n",
      "            ( 'Adj Close', '^FTSE'),\n",
      "            ( 'Adj Close', '^GSPC'),\n",
      "            (     'Close', 'BSPIX'),\n",
      "            (     'Close',   'VOO'),\n",
      "            (     'Close',  'VTWO'),\n",
      "            (     'Close', '^FTMC'),\n",
      "            (     'Close', '^FTSE'),\n",
      "            (     'Close', '^GSPC'),\n",
      "            (      'High', 'BSPIX'),\n",
      "            (      'High',   'VOO'),\n",
      "            (      'High',  'VTWO'),\n",
      "            (      'High', '^FTMC'),\n",
      "            (      'High', '^FTSE'),\n",
      "            (      'High', '^GSPC'),\n",
      "            (       'Low', 'BSPIX'),\n",
      "            (       'Low',   'VOO'),\n",
      "            (       'Low',  'VTWO'),\n",
      "            (       'Low', '^FTMC'),\n",
      "            (       'Low', '^FTSE'),\n",
      "            (       'Low', '^GSPC'),\n",
      "            (      'Open', 'BSPIX'),\n",
      "            (      'Open',   'VOO'),\n",
      "            (      'Open',  'VTWO'),\n",
      "            (      'Open', '^FTMC'),\n",
      "            (      'Open', '^FTSE'),\n",
      "            (      'Open', '^GSPC'),\n",
      "            (    'Volume', 'BSPIX'),\n",
      "            (    'Volume',   'VOO'),\n",
      "            (    'Volume',  'VTWO'),\n",
      "            (    'Volume', '^FTMC'),\n",
      "            (    'Volume', '^FTSE'),\n",
      "            (    'Volume', '^GSPC'),\n",
      "            ('Normalized', 'BSPIX'),\n",
      "            ('Normalized',   'VOO'),\n",
      "            ('Normalized',  'VTWO'),\n",
      "            ('Normalized', '^FTMC'),\n",
      "            ('Normalized', '^FTSE'),\n",
      "            ('Normalized', '^GSPC')],\n",
      "           names=['Price', 'Ticker'])\n"
     ]
    }
   ],
   "source": [
    "print(df.columns)"
   ]
  },
  {
   "cell_type": "code",
   "execution_count": 30,
   "metadata": {},
   "outputs": [
    {
     "data": {
      "text/html": [
       "\n",
       "        <iframe\n",
       "            width=\"100%\"\n",
       "            height=\"650\"\n",
       "            src=\"http://127.0.0.1:8050/\"\n",
       "            frameborder=\"0\"\n",
       "            allowfullscreen\n",
       "            \n",
       "        ></iframe>\n",
       "        "
      ],
      "text/plain": [
       "<IPython.lib.display.IFrame at 0x1bd76804fb0>"
      ]
     },
     "metadata": {},
     "output_type": "display_data"
    }
   ],
   "source": [
    "# Initialize the Dash app\n",
    "app = dash.Dash(__name__)\n",
    "\n",
    "\n",
    "# Create a figure\n",
    "fig = go.Figure()\n",
    "\n",
    "# Add a trace for each ticker\n",
    "for ticker in tickers:\n",
    "    fig.add_trace(go.Scatter(x=df.index, y=df['Normalized', ticker], mode='lines', name=ticker))\n",
    "    \n",
    "# Update layout to include title and axis labels \n",
    "fig.update_layout( title='Normalized Comparison of Adj Close Prices', xaxis_title='Date', yaxis_title='Normalized Closing Price (%)' )\n",
    "\n",
    "# Define the layout of the app\n",
    "app.layout = html.Div(children=[\n",
    "    html.H1(children='Stock Market Analysis Dashboard'),\n",
    "    dcc.Graph(\n",
    "        id='example-graph',\n",
    "        figure=fig\n",
    "    )\n",
    "])\n",
    "\n",
    "# Run the app\n",
    "if __name__ == '__main__':\n",
    "    app.run_server(debug=True)"
   ]
  },
  {
   "cell_type": "code",
   "execution_count": 63,
   "metadata": {},
   "outputs": [
    {
     "name": "stderr",
     "output_type": "stream",
     "text": [
      "[*********************100%***********************]  6 of 6 completed\n",
      "C:\\Users\\pthuk\\AppData\\Local\\Temp\\ipykernel_38620\\2762590416.py:24: FutureWarning:\n",
      "\n",
      "The previous implementation of stack is deprecated and will be removed in a future version of pandas. See the What's New notes for pandas 2.1.0 for details. Specify future_stack=True to adopt the new implementation and silence this warning.\n",
      "\n"
     ]
    },
    {
     "ename": "FileNotFoundError",
     "evalue": "[Errno 2] No such file or directory: 'C:\\\\Users\\\\pthuk\\\\Documents\\\\git\\\\notes\\\\content\\\\python\\\\assets\\\\normalized_comparison.png'",
     "output_type": "error",
     "traceback": [
      "\u001b[1;31m---------------------------------------------------------------------------\u001b[0m",
      "\u001b[1;31mFileNotFoundError\u001b[0m                         Traceback (most recent call last)",
      "Cell \u001b[1;32mIn[63], line 44\u001b[0m\n\u001b[0;32m     41\u001b[0m plt\u001b[38;5;241m.\u001b[39mtitle(\u001b[38;5;124m'\u001b[39m\u001b[38;5;124mNormalized Comparison of Adj Close Prices\u001b[39m\u001b[38;5;124m'\u001b[39m)\n\u001b[0;32m     43\u001b[0m \u001b[38;5;66;03m# Save the plot as an image\u001b[39;00m\n\u001b[1;32m---> 44\u001b[0m \u001b[43mplt\u001b[49m\u001b[38;5;241;43m.\u001b[39;49m\u001b[43msavefig\u001b[49m\u001b[43m(\u001b[49m\u001b[38;5;124;43m'\u001b[39;49m\u001b[38;5;124;43massets/normalized_comparison.png\u001b[39;49m\u001b[38;5;124;43m'\u001b[39;49m\u001b[43m)\u001b[49m\n\u001b[0;32m     45\u001b[0m plt\u001b[38;5;241m.\u001b[39mshow()\n\u001b[0;32m     47\u001b[0m \u001b[38;5;66;03m# Define the layout of the Dash app\u001b[39;00m\n",
      "File \u001b[1;32mc:\\Python312\\Lib\\site-packages\\matplotlib\\pyplot.py:1228\u001b[0m, in \u001b[0;36msavefig\u001b[1;34m(*args, **kwargs)\u001b[0m\n\u001b[0;32m   1225\u001b[0m fig \u001b[38;5;241m=\u001b[39m gcf()\n\u001b[0;32m   1226\u001b[0m \u001b[38;5;66;03m# savefig default implementation has no return, so mypy is unhappy\u001b[39;00m\n\u001b[0;32m   1227\u001b[0m \u001b[38;5;66;03m# presumably this is here because subclasses can return?\u001b[39;00m\n\u001b[1;32m-> 1228\u001b[0m res \u001b[38;5;241m=\u001b[39m \u001b[43mfig\u001b[49m\u001b[38;5;241;43m.\u001b[39;49m\u001b[43msavefig\u001b[49m\u001b[43m(\u001b[49m\u001b[38;5;241;43m*\u001b[39;49m\u001b[43margs\u001b[49m\u001b[43m,\u001b[49m\u001b[43m \u001b[49m\u001b[38;5;241;43m*\u001b[39;49m\u001b[38;5;241;43m*\u001b[39;49m\u001b[43mkwargs\u001b[49m\u001b[43m)\u001b[49m  \u001b[38;5;66;03m# type: ignore[func-returns-value]\u001b[39;00m\n\u001b[0;32m   1229\u001b[0m fig\u001b[38;5;241m.\u001b[39mcanvas\u001b[38;5;241m.\u001b[39mdraw_idle()  \u001b[38;5;66;03m# Need this if 'transparent=True', to reset colors.\u001b[39;00m\n\u001b[0;32m   1230\u001b[0m \u001b[38;5;28;01mreturn\u001b[39;00m res\n",
      "File \u001b[1;32mc:\\Python312\\Lib\\site-packages\\matplotlib\\figure.py:3395\u001b[0m, in \u001b[0;36mFigure.savefig\u001b[1;34m(self, fname, transparent, **kwargs)\u001b[0m\n\u001b[0;32m   3393\u001b[0m     \u001b[38;5;28;01mfor\u001b[39;00m ax \u001b[38;5;129;01min\u001b[39;00m \u001b[38;5;28mself\u001b[39m\u001b[38;5;241m.\u001b[39maxes:\n\u001b[0;32m   3394\u001b[0m         _recursively_make_axes_transparent(stack, ax)\n\u001b[1;32m-> 3395\u001b[0m \u001b[38;5;28;43mself\u001b[39;49m\u001b[38;5;241;43m.\u001b[39;49m\u001b[43mcanvas\u001b[49m\u001b[38;5;241;43m.\u001b[39;49m\u001b[43mprint_figure\u001b[49m\u001b[43m(\u001b[49m\u001b[43mfname\u001b[49m\u001b[43m,\u001b[49m\u001b[43m \u001b[49m\u001b[38;5;241;43m*\u001b[39;49m\u001b[38;5;241;43m*\u001b[39;49m\u001b[43mkwargs\u001b[49m\u001b[43m)\u001b[49m\n",
      "File \u001b[1;32mc:\\Python312\\Lib\\site-packages\\matplotlib\\backend_bases.py:2204\u001b[0m, in \u001b[0;36mFigureCanvasBase.print_figure\u001b[1;34m(self, filename, dpi, facecolor, edgecolor, orientation, format, bbox_inches, pad_inches, bbox_extra_artists, backend, **kwargs)\u001b[0m\n\u001b[0;32m   2200\u001b[0m \u001b[38;5;28;01mtry\u001b[39;00m:\n\u001b[0;32m   2201\u001b[0m     \u001b[38;5;66;03m# _get_renderer may change the figure dpi (as vector formats\u001b[39;00m\n\u001b[0;32m   2202\u001b[0m     \u001b[38;5;66;03m# force the figure dpi to 72), so we need to set it again here.\u001b[39;00m\n\u001b[0;32m   2203\u001b[0m     \u001b[38;5;28;01mwith\u001b[39;00m cbook\u001b[38;5;241m.\u001b[39m_setattr_cm(\u001b[38;5;28mself\u001b[39m\u001b[38;5;241m.\u001b[39mfigure, dpi\u001b[38;5;241m=\u001b[39mdpi):\n\u001b[1;32m-> 2204\u001b[0m         result \u001b[38;5;241m=\u001b[39m \u001b[43mprint_method\u001b[49m\u001b[43m(\u001b[49m\n\u001b[0;32m   2205\u001b[0m \u001b[43m            \u001b[49m\u001b[43mfilename\u001b[49m\u001b[43m,\u001b[49m\n\u001b[0;32m   2206\u001b[0m \u001b[43m            \u001b[49m\u001b[43mfacecolor\u001b[49m\u001b[38;5;241;43m=\u001b[39;49m\u001b[43mfacecolor\u001b[49m\u001b[43m,\u001b[49m\n\u001b[0;32m   2207\u001b[0m \u001b[43m            \u001b[49m\u001b[43medgecolor\u001b[49m\u001b[38;5;241;43m=\u001b[39;49m\u001b[43medgecolor\u001b[49m\u001b[43m,\u001b[49m\n\u001b[0;32m   2208\u001b[0m \u001b[43m            \u001b[49m\u001b[43morientation\u001b[49m\u001b[38;5;241;43m=\u001b[39;49m\u001b[43morientation\u001b[49m\u001b[43m,\u001b[49m\n\u001b[0;32m   2209\u001b[0m \u001b[43m            \u001b[49m\u001b[43mbbox_inches_restore\u001b[49m\u001b[38;5;241;43m=\u001b[39;49m\u001b[43m_bbox_inches_restore\u001b[49m\u001b[43m,\u001b[49m\n\u001b[0;32m   2210\u001b[0m \u001b[43m            \u001b[49m\u001b[38;5;241;43m*\u001b[39;49m\u001b[38;5;241;43m*\u001b[39;49m\u001b[43mkwargs\u001b[49m\u001b[43m)\u001b[49m\n\u001b[0;32m   2211\u001b[0m \u001b[38;5;28;01mfinally\u001b[39;00m:\n\u001b[0;32m   2212\u001b[0m     \u001b[38;5;28;01mif\u001b[39;00m bbox_inches \u001b[38;5;129;01mand\u001b[39;00m restore_bbox:\n",
      "File \u001b[1;32mc:\\Python312\\Lib\\site-packages\\matplotlib\\backend_bases.py:2054\u001b[0m, in \u001b[0;36mFigureCanvasBase._switch_canvas_and_return_print_method.<locals>.<lambda>\u001b[1;34m(*args, **kwargs)\u001b[0m\n\u001b[0;32m   2050\u001b[0m     optional_kws \u001b[38;5;241m=\u001b[39m {  \u001b[38;5;66;03m# Passed by print_figure for other renderers.\u001b[39;00m\n\u001b[0;32m   2051\u001b[0m         \u001b[38;5;124m\"\u001b[39m\u001b[38;5;124mdpi\u001b[39m\u001b[38;5;124m\"\u001b[39m, \u001b[38;5;124m\"\u001b[39m\u001b[38;5;124mfacecolor\u001b[39m\u001b[38;5;124m\"\u001b[39m, \u001b[38;5;124m\"\u001b[39m\u001b[38;5;124medgecolor\u001b[39m\u001b[38;5;124m\"\u001b[39m, \u001b[38;5;124m\"\u001b[39m\u001b[38;5;124morientation\u001b[39m\u001b[38;5;124m\"\u001b[39m,\n\u001b[0;32m   2052\u001b[0m         \u001b[38;5;124m\"\u001b[39m\u001b[38;5;124mbbox_inches_restore\u001b[39m\u001b[38;5;124m\"\u001b[39m}\n\u001b[0;32m   2053\u001b[0m     skip \u001b[38;5;241m=\u001b[39m optional_kws \u001b[38;5;241m-\u001b[39m {\u001b[38;5;241m*\u001b[39minspect\u001b[38;5;241m.\u001b[39msignature(meth)\u001b[38;5;241m.\u001b[39mparameters}\n\u001b[1;32m-> 2054\u001b[0m     print_method \u001b[38;5;241m=\u001b[39m functools\u001b[38;5;241m.\u001b[39mwraps(meth)(\u001b[38;5;28;01mlambda\u001b[39;00m \u001b[38;5;241m*\u001b[39margs, \u001b[38;5;241m*\u001b[39m\u001b[38;5;241m*\u001b[39mkwargs: \u001b[43mmeth\u001b[49m\u001b[43m(\u001b[49m\n\u001b[0;32m   2055\u001b[0m \u001b[43m        \u001b[49m\u001b[38;5;241;43m*\u001b[39;49m\u001b[43margs\u001b[49m\u001b[43m,\u001b[49m\u001b[43m \u001b[49m\u001b[38;5;241;43m*\u001b[39;49m\u001b[38;5;241;43m*\u001b[39;49m\u001b[43m{\u001b[49m\u001b[43mk\u001b[49m\u001b[43m:\u001b[49m\u001b[43m \u001b[49m\u001b[43mv\u001b[49m\u001b[43m \u001b[49m\u001b[38;5;28;43;01mfor\u001b[39;49;00m\u001b[43m \u001b[49m\u001b[43mk\u001b[49m\u001b[43m,\u001b[49m\u001b[43m \u001b[49m\u001b[43mv\u001b[49m\u001b[43m \u001b[49m\u001b[38;5;129;43;01min\u001b[39;49;00m\u001b[43m \u001b[49m\u001b[43mkwargs\u001b[49m\u001b[38;5;241;43m.\u001b[39;49m\u001b[43mitems\u001b[49m\u001b[43m(\u001b[49m\u001b[43m)\u001b[49m\u001b[43m \u001b[49m\u001b[38;5;28;43;01mif\u001b[39;49;00m\u001b[43m \u001b[49m\u001b[43mk\u001b[49m\u001b[43m \u001b[49m\u001b[38;5;129;43;01mnot\u001b[39;49;00m\u001b[43m \u001b[49m\u001b[38;5;129;43;01min\u001b[39;49;00m\u001b[43m \u001b[49m\u001b[43mskip\u001b[49m\u001b[43m}\u001b[49m\u001b[43m)\u001b[49m)\n\u001b[0;32m   2056\u001b[0m \u001b[38;5;28;01melse\u001b[39;00m:  \u001b[38;5;66;03m# Let third-parties do as they see fit.\u001b[39;00m\n\u001b[0;32m   2057\u001b[0m     print_method \u001b[38;5;241m=\u001b[39m meth\n",
      "File \u001b[1;32mc:\\Python312\\Lib\\site-packages\\matplotlib\\backends\\backend_agg.py:496\u001b[0m, in \u001b[0;36mFigureCanvasAgg.print_png\u001b[1;34m(self, filename_or_obj, metadata, pil_kwargs)\u001b[0m\n\u001b[0;32m    449\u001b[0m \u001b[38;5;28;01mdef\u001b[39;00m \u001b[38;5;21mprint_png\u001b[39m(\u001b[38;5;28mself\u001b[39m, filename_or_obj, \u001b[38;5;241m*\u001b[39m, metadata\u001b[38;5;241m=\u001b[39m\u001b[38;5;28;01mNone\u001b[39;00m, pil_kwargs\u001b[38;5;241m=\u001b[39m\u001b[38;5;28;01mNone\u001b[39;00m):\n\u001b[0;32m    450\u001b[0m \u001b[38;5;250m    \u001b[39m\u001b[38;5;124;03m\"\"\"\u001b[39;00m\n\u001b[0;32m    451\u001b[0m \u001b[38;5;124;03m    Write the figure to a PNG file.\u001b[39;00m\n\u001b[0;32m    452\u001b[0m \n\u001b[1;32m   (...)\u001b[0m\n\u001b[0;32m    494\u001b[0m \u001b[38;5;124;03m        *metadata*, including the default 'Software' key.\u001b[39;00m\n\u001b[0;32m    495\u001b[0m \u001b[38;5;124;03m    \"\"\"\u001b[39;00m\n\u001b[1;32m--> 496\u001b[0m     \u001b[38;5;28;43mself\u001b[39;49m\u001b[38;5;241;43m.\u001b[39;49m\u001b[43m_print_pil\u001b[49m\u001b[43m(\u001b[49m\u001b[43mfilename_or_obj\u001b[49m\u001b[43m,\u001b[49m\u001b[43m \u001b[49m\u001b[38;5;124;43m\"\u001b[39;49m\u001b[38;5;124;43mpng\u001b[39;49m\u001b[38;5;124;43m\"\u001b[39;49m\u001b[43m,\u001b[49m\u001b[43m \u001b[49m\u001b[43mpil_kwargs\u001b[49m\u001b[43m,\u001b[49m\u001b[43m \u001b[49m\u001b[43mmetadata\u001b[49m\u001b[43m)\u001b[49m\n",
      "File \u001b[1;32mc:\\Python312\\Lib\\site-packages\\matplotlib\\backends\\backend_agg.py:445\u001b[0m, in \u001b[0;36mFigureCanvasAgg._print_pil\u001b[1;34m(self, filename_or_obj, fmt, pil_kwargs, metadata)\u001b[0m\n\u001b[0;32m    440\u001b[0m \u001b[38;5;250m\u001b[39m\u001b[38;5;124;03m\"\"\"\u001b[39;00m\n\u001b[0;32m    441\u001b[0m \u001b[38;5;124;03mDraw the canvas, then save it using `.image.imsave` (to which\u001b[39;00m\n\u001b[0;32m    442\u001b[0m \u001b[38;5;124;03m*pil_kwargs* and *metadata* are forwarded).\u001b[39;00m\n\u001b[0;32m    443\u001b[0m \u001b[38;5;124;03m\"\"\"\u001b[39;00m\n\u001b[0;32m    444\u001b[0m FigureCanvasAgg\u001b[38;5;241m.\u001b[39mdraw(\u001b[38;5;28mself\u001b[39m)\n\u001b[1;32m--> 445\u001b[0m \u001b[43mmpl\u001b[49m\u001b[38;5;241;43m.\u001b[39;49m\u001b[43mimage\u001b[49m\u001b[38;5;241;43m.\u001b[39;49m\u001b[43mimsave\u001b[49m\u001b[43m(\u001b[49m\n\u001b[0;32m    446\u001b[0m \u001b[43m    \u001b[49m\u001b[43mfilename_or_obj\u001b[49m\u001b[43m,\u001b[49m\u001b[43m \u001b[49m\u001b[38;5;28;43mself\u001b[39;49m\u001b[38;5;241;43m.\u001b[39;49m\u001b[43mbuffer_rgba\u001b[49m\u001b[43m(\u001b[49m\u001b[43m)\u001b[49m\u001b[43m,\u001b[49m\u001b[43m \u001b[49m\u001b[38;5;28;43mformat\u001b[39;49m\u001b[38;5;241;43m=\u001b[39;49m\u001b[43mfmt\u001b[49m\u001b[43m,\u001b[49m\u001b[43m \u001b[49m\u001b[43morigin\u001b[49m\u001b[38;5;241;43m=\u001b[39;49m\u001b[38;5;124;43m\"\u001b[39;49m\u001b[38;5;124;43mupper\u001b[39;49m\u001b[38;5;124;43m\"\u001b[39;49m\u001b[43m,\u001b[49m\n\u001b[0;32m    447\u001b[0m \u001b[43m    \u001b[49m\u001b[43mdpi\u001b[49m\u001b[38;5;241;43m=\u001b[39;49m\u001b[38;5;28;43mself\u001b[39;49m\u001b[38;5;241;43m.\u001b[39;49m\u001b[43mfigure\u001b[49m\u001b[38;5;241;43m.\u001b[39;49m\u001b[43mdpi\u001b[49m\u001b[43m,\u001b[49m\u001b[43m \u001b[49m\u001b[43mmetadata\u001b[49m\u001b[38;5;241;43m=\u001b[39;49m\u001b[43mmetadata\u001b[49m\u001b[43m,\u001b[49m\u001b[43m \u001b[49m\u001b[43mpil_kwargs\u001b[49m\u001b[38;5;241;43m=\u001b[39;49m\u001b[43mpil_kwargs\u001b[49m\u001b[43m)\u001b[49m\n",
      "File \u001b[1;32mc:\\Python312\\Lib\\site-packages\\matplotlib\\image.py:1676\u001b[0m, in \u001b[0;36mimsave\u001b[1;34m(fname, arr, vmin, vmax, cmap, format, origin, dpi, metadata, pil_kwargs)\u001b[0m\n\u001b[0;32m   1674\u001b[0m pil_kwargs\u001b[38;5;241m.\u001b[39msetdefault(\u001b[38;5;124m\"\u001b[39m\u001b[38;5;124mformat\u001b[39m\u001b[38;5;124m\"\u001b[39m, \u001b[38;5;28mformat\u001b[39m)\n\u001b[0;32m   1675\u001b[0m pil_kwargs\u001b[38;5;241m.\u001b[39msetdefault(\u001b[38;5;124m\"\u001b[39m\u001b[38;5;124mdpi\u001b[39m\u001b[38;5;124m\"\u001b[39m, (dpi, dpi))\n\u001b[1;32m-> 1676\u001b[0m \u001b[43mimage\u001b[49m\u001b[38;5;241;43m.\u001b[39;49m\u001b[43msave\u001b[49m\u001b[43m(\u001b[49m\u001b[43mfname\u001b[49m\u001b[43m,\u001b[49m\u001b[43m \u001b[49m\u001b[38;5;241;43m*\u001b[39;49m\u001b[38;5;241;43m*\u001b[39;49m\u001b[43mpil_kwargs\u001b[49m\u001b[43m)\u001b[49m\n",
      "File \u001b[1;32mc:\\Python312\\Lib\\site-packages\\PIL\\Image.py:2563\u001b[0m, in \u001b[0;36mImage.save\u001b[1;34m(self, fp, format, **params)\u001b[0m\n\u001b[0;32m   2561\u001b[0m         fp \u001b[38;5;241m=\u001b[39m builtins\u001b[38;5;241m.\u001b[39mopen(filename, \u001b[38;5;124m\"\u001b[39m\u001b[38;5;124mr+b\u001b[39m\u001b[38;5;124m\"\u001b[39m)\n\u001b[0;32m   2562\u001b[0m     \u001b[38;5;28;01melse\u001b[39;00m:\n\u001b[1;32m-> 2563\u001b[0m         fp \u001b[38;5;241m=\u001b[39m \u001b[43mbuiltins\u001b[49m\u001b[38;5;241;43m.\u001b[39;49m\u001b[43mopen\u001b[49m\u001b[43m(\u001b[49m\u001b[43mfilename\u001b[49m\u001b[43m,\u001b[49m\u001b[43m \u001b[49m\u001b[38;5;124;43m\"\u001b[39;49m\u001b[38;5;124;43mw+b\u001b[39;49m\u001b[38;5;124;43m\"\u001b[39;49m\u001b[43m)\u001b[49m\n\u001b[0;32m   2564\u001b[0m \u001b[38;5;28;01melse\u001b[39;00m:\n\u001b[0;32m   2565\u001b[0m     fp \u001b[38;5;241m=\u001b[39m cast(IO[\u001b[38;5;28mbytes\u001b[39m], fp)\n",
      "\u001b[1;31mFileNotFoundError\u001b[0m: [Errno 2] No such file or directory: 'C:\\\\Users\\\\pthuk\\\\Documents\\\\git\\\\notes\\\\content\\\\python\\\\assets\\\\normalized_comparison.png'"
     ]
    },
    {
     "data": {
      "image/png": "[encoded data removed]",
      "text/plain": [
       "<Figure size 1000x600 with 1 Axes>"
      ]
     },
     "metadata": {},
     "output_type": "display_data"
    }
   ],
   "source": [
    "import dash\n",
    "import seaborn as sns\n",
    "import matplotlib.pyplot as plt\n",
    "from dash import dcc, html\n",
    "import pandas as pd\n",
    "import yfinance as yf\n",
    "\n",
    "# Initialize the Dash app\n",
    "app = dash.Dash(__name__)\n",
    "\n",
    "# Download data using yfinance\n",
    "tickers = ['^GSPC', 'VOO', 'BSPIX', 'VTWO', '^FTSE', '^FTMC']\n",
    "df = yf.download(tickers, start='2020-01-01', end='2024-10-11')\n",
    "\n",
    "# Normalize 'Adj Close' columns\n",
    "for ticker in tickers:\n",
    "    base_value = df[('Adj Close', ticker)].iloc[0]\n",
    "    normalized_column = (df[('Adj Close', ticker)] / base_value) * 100\n",
    "    df[('Normalized', ticker)] = normalized_column\n",
    "\n",
    "# ... (Your code for data download and normalization)\n",
    "\n",
    "# Completely flatten the DataFrame\n",
    "df_flattened = df.stack().reset_index()\n",
    "\n",
    "# Select the desired columns\n",
    "df_flattened = df_flattened[['Date', 'Ticker', 'Adj Close']]\n",
    "\n",
    "# Filter for normalized data\n",
    "df_normalized = df_flattened[df_flattened['Ticker'].str.startswith('Normalized')]\n",
    "\n",
    "# ... (Rest of your code)\n",
    "\n",
    "# Create Seaborn plot\n",
    "plt.figure(figsize=(10, 6))\n",
    "sns.lineplot(data=df_normalized, x='Date', y='Adj Close', hue='Ticker')\n",
    "\n",
    "# Set axis labels and title\n",
    "plt.xlabel('Date')\n",
    "plt.ylabel('Normalized Closing Price (%)')\n",
    "plt.title('Normalized Comparison of Adj Close Prices')\n",
    "\n",
    "# Save the plot as an image\n",
    "plt.savefig('assets/normalized_comparison.png')\n",
    "plt.show()\n",
    "\n",
    "# Define the layout of the Dash app\n",
    "app.layout = html.Div(children=[\n",
    "    html.H1(children='Stock Market Analysis Dashboard'),\n",
    "    html.Img(src='/assets/normalized_comparison.png')  # Ensure this path is correct\n",
    "])\n",
    "\n",
    "# Run the app\n",
    "if __name__ == '__main__':\n",
    "    app.run_server(debug=True)"
   ]
  },
  {
   "cell_type": "code",
   "execution_count": 60,
   "metadata": {},
   "outputs": [
    {
     "name": "stdout",
     "output_type": "stream",
     "text": [
      "MultiIndex([(      'Date',      ''),\n",
      "            ( 'Adj Close', 'BSPIX'),\n",
      "            ( 'Adj Close',   'VOO'),\n",
      "            ( 'Adj Close',  'VTWO'),\n",
      "            ( 'Adj Close', '^FTMC'),\n",
      "            ( 'Adj Close', '^FTSE'),\n",
      "            ( 'Adj Close', '^GSPC'),\n",
      "            (     'Close', 'BSPIX'),\n",
      "            (     'Close',   'VOO'),\n",
      "            (     'Close',  'VTWO'),\n",
      "            (     'Close', '^FTMC'),\n",
      "            (     'Close', '^FTSE'),\n",
      "            (     'Close', '^GSPC'),\n",
      "            (      'High', 'BSPIX'),\n",
      "            (      'High',   'VOO'),\n",
      "            (      'High',  'VTWO'),\n",
      "            (      'High', '^FTMC'),\n",
      "            (      'High', '^FTSE'),\n",
      "            (      'High', '^GSPC'),\n",
      "            (       'Low', 'BSPIX'),\n",
      "            (       'Low',   'VOO'),\n",
      "            (       'Low',  'VTWO'),\n",
      "            (       'Low', '^FTMC'),\n",
      "            (       'Low', '^FTSE'),\n",
      "            (       'Low', '^GSPC'),\n",
      "            (      'Open', 'BSPIX'),\n",
      "            (      'Open',   'VOO'),\n",
      "            (      'Open',  'VTWO'),\n",
      "            (      'Open', '^FTMC'),\n",
      "            (      'Open', '^FTSE'),\n",
      "            (      'Open', '^GSPC'),\n",
      "            (    'Volume', 'BSPIX'),\n",
      "            (    'Volume',   'VOO'),\n",
      "            (    'Volume',  'VTWO'),\n",
      "            (    'Volume', '^FTMC'),\n",
      "            (    'Volume', '^FTSE'),\n",
      "            (    'Volume', '^GSPC'),\n",
      "            ('Normalized', '^GSPC'),\n",
      "            ('Normalized',   'VOO'),\n",
      "            ('Normalized', 'BSPIX'),\n",
      "            ('Normalized',  'VTWO'),\n",
      "            ('Normalized', '^FTSE'),\n",
      "            ('Normalized', '^FTMC')],\n",
      "           names=['Price', 'Ticker'])\n"
     ]
    }
   ],
   "source": [
    "print(df_reset.columns)\n"
   ]
  }
 ],
 "metadata": {
  "kernelspec": {
   "display_name": "Python 3",
   "language": "python",
   "name": "python3"
  },
  "language_info": {
   "codemirror_mode": {
    "name": "ipython",
    "version": 3
   },
   "file_extension": ".py",
   "mimetype": "text/x-python",
   "name": "python",
   "nbconvert_exporter": "python",
   "pygments_lexer": "ipython3",
   "version": "3.12.4"
  }
 },
 "nbformat": 4,
 "nbformat_minor": 2
}
