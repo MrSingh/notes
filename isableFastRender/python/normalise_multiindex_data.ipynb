{
 "cells": [
  {
   "cell_type": "markdown",
   "metadata": {},
   "source": [
    "---\n",
    "title: \"Normalising ETF Adjusted Close Prices in a Multi-Index DataFrame\"\n",
    "author: \"Puneet Thukral\"\n",
    "date: 2024-11-14T07:00:00\n",
    "draft: false\n",
    "slug: \"normalise_multiindex_data\"\n",
    "---\n",
    "\n",
    "<!-- # [Resource](https://docs.python.org/3/library/stdtypes.html) -->\n",
    "\n",
    "***"
   ]
  },
  {
   "cell_type": "markdown",
   "metadata": {},
   "source": [
    "This example fetches historical price data for two ETFs, 'VOO' and 'VTWO', using the yfinance library and storing it in a Multi-Index DataFrame. It then iterates through each ticker symbol to normalise their adjusted closing prices based on the first day's value. The normalised prices are stored in new columns in the DataFrame.\n",
    "\n",
    "Normalising data is important for a number of reasons:\n",
    "\n",
    "+ Comparison Across Assets\n",
    "+ Trend Analysis\n",
    "+ Volatility Assessment\n",
    "+ Portfolio Management\n",
    "+ Visualization\n",
    "\n",
    "See my short guide to normalising data [here](../../notes/normalising_data)"
   ]
  },
  {
   "cell_type": "code",
   "execution_count": 7,
   "metadata": {},
   "outputs": [],
   "source": [
    "# Import\n",
    "import pandas as pd\n",
    "import yfinance as yf"
   ]
  },
  {
   "cell_type": "code",
   "execution_count": 2,
   "metadata": {},
   "outputs": [
    {
     "name": "stderr",
     "output_type": "stream",
     "text": [
      "[*********************100%***********************]  2 of 2 completed\n"
     ]
    }
   ],
   "source": [
    "# Fetch data\n",
    "#S&P 500 Vanguard - VOO\n",
    "#S&P 500 Black Rock - BSPIX\n",
    "tickers = ['VOO','VTWO']\n",
    "df = yf.download(tickers,  start='2019-01-01', end='2024-10-11')"
   ]
  },
  {
   "cell_type": "code",
   "execution_count": 3,
   "metadata": {},
   "outputs": [],
   "source": [
    "# Normalise 'Adj Close' columns \n",
    "# List of ticker symbols for the ETFs\n",
    "for ticker in ['VOO', 'VTWO']:\n",
    "    # Get the base value, the adjusted closing price on the first day\n",
    "    base_value = df[('Adj Close', ticker)].iloc[0]\n",
    "    \n",
    "    # Normalise the adjusted closing prices by dividing by the base value and multiplying by 100\n",
    "    normalised_column = (df[('Adj Close', ticker)] / base_value) * 100\n",
    "    \n",
    "    # Store the normalised prices in a new column in the DataFrame\n",
    "    df[('Normalised', ticker)] = normalised_column\n"
   ]
  },
  {
   "cell_type": "code",
   "execution_count": 4,
   "metadata": {},
   "outputs": [
    {
     "name": "stdout",
     "output_type": "stream",
     "text": [
      "MultiIndex([( 'Adj Close',  'VOO'),\n",
      "            ( 'Adj Close', 'VTWO'),\n",
      "            (     'Close',  'VOO'),\n",
      "            (     'Close', 'VTWO'),\n",
      "            (      'High',  'VOO'),\n",
      "            (      'High', 'VTWO'),\n",
      "            (       'Low',  'VOO'),\n",
      "            (       'Low', 'VTWO'),\n",
      "            (      'Open',  'VOO'),\n",
      "            (      'Open', 'VTWO'),\n",
      "            (    'Volume',  'VOO'),\n",
      "            (    'Volume', 'VTWO'),\n",
      "            ('Normalised',  'VOO'),\n",
      "            ('Normalised', 'VTWO')],\n",
      "           names=['Price', 'Ticker'])\n"
     ]
    }
   ],
   "source": [
    "print(df.columns)"
   ]
  }
 ],
 "metadata": {
  "kernelspec": {
   "display_name": "Python 3",
   "language": "python",
   "name": "python3"
  },
  "language_info": {
   "codemirror_mode": {
    "name": "ipython",
    "version": 3
   },
   "file_extension": ".py",
   "mimetype": "text/x-python",
   "name": "python",
   "nbconvert_exporter": "python",
   "pygments_lexer": "ipython3",
   "version": "3.12.4"
  }
 },
 "nbformat": 4,
 "nbformat_minor": 2
}
