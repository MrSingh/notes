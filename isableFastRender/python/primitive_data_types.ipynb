{
 "metadata": {
  "language_info": {
   "codemirror_mode": {
    "name": "ipython",
    "version": 3
   },
   "file_extension": ".py",
   "mimetype": "text/x-python",
   "name": "python",
   "nbconvert_exporter": "python",
   "pygments_lexer": "ipython3",
   "version": "3.9.0"
  },
  "orig_nbformat": 2,
  "kernelspec": {
   "name": "python3",
   "display_name": "Python 3.9.0 64-bit",
   "metadata": {
    "interpreter": {
     "hash": "5206320557a401c076b176fdb4f00029d11a3d4ac9eb9c6a71be6c765ce41f32"
    }
   }
  }
 },
 "nbformat": 4,
 "nbformat_minor": 2,
 "cells": [
  {
   "source": [
    "---\n",
    "title: \"Primitive Data Types\"\n",
    "author: \"Puneet Thukral\"\n",
    "date: 2021-02-19T07:00:00\n",
    "draft: false\n",
    "slug: \"primitive_data_types\"\n",
    "---\n",
    "\n",
    "[Resource](https://docs.python.org/3/library/stdtypes.html)\n",
    "\n",
    "***\n"
   ],
   "cell_type": "markdown",
   "metadata": {}
  },
  {
   "source": [
    "Python has a number of built-in data types but for the purpose of this notebook, we will focus on what are referred to as primitive data types. The primitive data types are as follows.\n",
    "\n",
    "- Integer - Whole numbers \n",
    "- Float - Deciaml numbers\n",
    "- String - Character data\n",
    "- Boolean - True or False\n",
    "- None - None Object or NoneType\n"
   ],
   "cell_type": "markdown",
   "metadata": {}
  },
  {
   "source": [
    "## Integers\n",
    "### Whole Numbers"
   ],
   "cell_type": "markdown",
   "metadata": {}
  },
  {
   "cell_type": "code",
   "execution_count": 1,
   "metadata": {},
   "outputs": [
    {
     "output_type": "execute_result",
     "data": {
      "text/plain": [
       "int"
      ]
     },
     "metadata": {},
     "execution_count": 1
    }
   ],
   "source": [
    "# Positive Integer\n",
    "num = 10\n",
    "\n",
    "# Check data type\n",
    "type(num)"
   ]
  },
  {
   "cell_type": "code",
   "execution_count": 2,
   "metadata": {},
   "outputs": [
    {
     "output_type": "execute_result",
     "data": {
      "text/plain": [
       "int"
      ]
     },
     "metadata": {},
     "execution_count": 2
    }
   ],
   "source": [
    "# Negative Integer\n",
    "negative_num = -10\n",
    "\n",
    "# Check data type\n",
    "type(num)"
   ]
  },
  {
   "cell_type": "code",
   "execution_count": 3,
   "metadata": {},
   "outputs": [
    {
     "output_type": "execute_result",
     "data": {
      "text/plain": [
       "int"
      ]
     },
     "metadata": {},
     "execution_count": 3
    }
   ],
   "source": [
    "#Zero\n",
    "zero = 0\n",
    "\n",
    "# Check data type\n",
    "type(zero)"
   ]
  },
  {
   "source": [
    "## Floats"
   ],
   "cell_type": "markdown",
   "metadata": {}
  },
  {
   "cell_type": "code",
   "execution_count": 4,
   "metadata": {},
   "outputs": [
    {
     "output_type": "execute_result",
     "data": {
      "text/plain": [
       "float"
      ]
     },
     "metadata": {},
     "execution_count": 4
    }
   ],
   "source": [
    "# Floating or Decimal Number\n",
    "decimal_num = 2.5\n",
    "\n",
    "# Check data type\n",
    "type(decimal_num)"
   ]
  },
  {
   "source": [
    "## String"
   ],
   "cell_type": "markdown",
   "metadata": {}
  },
  {
   "cell_type": "code",
   "execution_count": 5,
   "metadata": {},
   "outputs": [
    {
     "output_type": "execute_result",
     "data": {
      "text/plain": [
       "str"
      ]
     },
     "metadata": {},
     "execution_count": 5
    }
   ],
   "source": [
    "# Python String\n",
    "game_name = \"Mario Karts\"\n",
    "\n",
    "# Check game_name type\n",
    "type(game_name)"
   ]
  },
  {
   "source": [
    "## Boolean\n",
    "\n",
    "### The type() of both False and True is bool.\n"
   ],
   "cell_type": "markdown",
   "metadata": {}
  },
  {
   "cell_type": "code",
   "execution_count": 6,
   "metadata": {},
   "outputs": [
    {
     "output_type": "execute_result",
     "data": {
      "text/plain": [
       "bool"
      ]
     },
     "metadata": {},
     "execution_count": 6
    }
   ],
   "source": [
    "# Set varable to be False\n",
    "false_type = False\n",
    "\n",
    "# Check data type\n",
    "type(false_type)\n",
    "\n"
   ]
  },
  {
   "source": [
    "## None"
   ],
   "cell_type": "markdown",
   "metadata": {}
  },
  {
   "cell_type": "code",
   "execution_count": 7,
   "metadata": {},
   "outputs": [
    {
     "output_type": "execute_result",
     "data": {
      "text/plain": [
       "NoneType"
      ]
     },
     "metadata": {},
     "execution_count": 7
    }
   ],
   "source": [
    "## Set variable to NONE\n",
    "none_variable = None\n",
    "\n",
    "# Check data type\n",
    "type(none_variable)"
   ]
  }
 ]
}