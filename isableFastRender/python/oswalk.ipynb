{
 "metadata": {
  "language_info": {
   "codemirror_mode": {
    "name": "ipython",
    "version": 3
   },
   "file_extension": ".py",
   "mimetype": "text/x-python",
   "name": "python",
   "nbconvert_exporter": "python",
   "pygments_lexer": "ipython3",
   "version": "3.8.5-final"
  },
  "orig_nbformat": 2,
  "kernelspec": {
   "name": "python3",
   "display_name": "Python 3",
   "language": "python"
  }
 },
 "nbformat": 4,
 "nbformat_minor": 2,
 "cells": [
  {
   "source": [
    "---\n",
    "title: \"Python os.walk()\"\n",
    "Description: \"Python method walk() generates directory file names.\"\n",
    "date: 2021-01-28T14:50:18Z\n",
    "draft: false\n",
    "---\n",
    "\n",
    "***\n"
   ],
   "cell_type": "markdown",
   "metadata": {}
  },
  {
   "source": [
    "## Import Modules"
   ],
   "cell_type": "markdown",
   "metadata": {}
  },
  {
   "cell_type": "code",
   "execution_count": 1,
   "metadata": {},
   "outputs": [],
   "source": [
    "# Import Module\n",
    "import os"
   ]
  },
  {
   "source": [
    "## Set Path"
   ],
   "cell_type": "markdown",
   "metadata": {}
  },
  {
   "cell_type": "code",
   "execution_count": 2,
   "metadata": {},
   "outputs": [],
   "source": [
    "# Set Path\n",
    "path = '../../content/'"
   ]
  },
  {
   "source": [
    "## Find All Markdown Files In All Content Folders"
   ],
   "cell_type": "markdown",
   "metadata": {}
  },
  {
   "cell_type": "code",
   "execution_count": 5,
   "metadata": {},
   "outputs": [
    {
     "output_type": "execute_result",
     "data": {
      "text/plain": [
       "['../../content/archive\\\\get-started-with-angular-2.md',\n",
       " '../../content/content\\\\about\\\\about.md',\n",
       " '../../content/git\\\\basic_git_commands.md',\n",
       " '../../content/powershell\\\\PowerShell.md',\n",
       " '../../content/python\\\\drop_dataframe_columns.md',\n",
       " '../../content/python\\\\load_csv.md',\n",
       " '../../content/python\\\\load_json.md',\n",
       " '../../content/python\\\\ossystem.md',\n",
       " '../../content/python\\\\oswalk.md',\n",
       " '../../content/python\\\\resources.md',\n",
       " '../../content/python\\\\write_dataframe_to_json.md',\n",
       " '../../content/python\\\\ws_requests_and_beautifulsoup.md',\n",
       " '../../content/test\\\\data_analysis.md',\n",
       " '../../content/test\\\\jira_data_analysis.md',\n",
       " '../../content/test\\\\reddit_wallstreetbets.md',\n",
       " '../../content/vscode\\\\inserting_date_time.md',\n",
       " '../../content/vscode\\\\vscode_python_issues.md',\n",
       " '../../content/vscode\\\\vscode_shortcuts.md']"
      ]
     },
     "metadata": {},
     "execution_count": 5
    }
   ],
   "source": [
    "# Find all markdown filesin all content folders\n",
    "all_md_files = [os.path.join(root, name)\n",
    "    for root, dirs, files in os.walk(path)\n",
    "        for name in files\n",
    "            if name.endswith((\".md\"))]\n",
    "all_md_files"
   ]
  }
 ]
}