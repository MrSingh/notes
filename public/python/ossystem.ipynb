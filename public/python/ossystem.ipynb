{
 "metadata": {
  "language_info": {
   "codemirror_mode": {
    "name": "ipython",
    "version": 3
   },
   "file_extension": ".py",
   "mimetype": "text/x-python",
   "name": "python",
   "nbconvert_exporter": "python",
   "pygments_lexer": "ipython3",
   "version": 3
  },
  "orig_nbformat": 2
 },
 "nbformat": 4,
 "nbformat_minor": 2,
 "cells": [
  {
   "source": [
    "---\n",
    "title: \"Python os.walk()\"\n",
    "Description: \"Python method walk() generates directory file names.\"\n",
    "date: 2021-01-28T14:50:18Z\n",
    "draft: true\n",
    "---\n",
    "\n",
    "***"
   ],
   "cell_type": "markdown",
   "metadata": {}
  },
  {
   "cell_type": "code",
   "execution_count": null,
   "metadata": {},
   "outputs": [],
   "source": [
    "# SYSTEM OS EXAMPLE\n",
    "# Command to execute \n",
    "# Using Windows OS command \n",
    "# cmd = 'start chrome'\n",
    "cmd = 'notepad'\n",
    "  \n",
    "# Using os.system() method \n",
    "os.system(cmd) "
   ]
  }
 ]
}