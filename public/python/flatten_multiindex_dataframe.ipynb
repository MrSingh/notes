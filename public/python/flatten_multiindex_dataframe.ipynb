{
 "cells": [
  {
   "cell_type": "markdown",
   "metadata": {},
   "source": [
    "---\n",
    "title: \"Flatten a Multi-Index DataFrame\"\n",
    "author: \"Puneet Thukral\"\n",
    "date: 2024-11-15T07:00:00\n",
    "draft: false\n",
    "slug: \"flatten_multiindex_dataframe\"\n",
    "---\n",
    "\n",
    "# [Resource](https://pandas.pydata.org/pandas-docs/stable/reference/api/pandas.DataFrame.stack.html)\n",
    "\n",
    "***"
   ]
  },
  {
   "cell_type": "markdown",
   "metadata": {},
   "source": [
    "Whilst a multi-index datafame can be useful for complex data orginisation, for example across multiple markets and time periods.  Flattening the data has it's own advantages; making for easier data manipulation, merging with other datasets and visulising. Here is a quick example."
   ]
  },
  {
   "cell_type": "code",
   "execution_count": 1,
   "metadata": {},
   "outputs": [],
   "source": [
    "# Import\n",
    "import pandas as pd\n",
    "import yfinance as yf"
   ]
  },
  {
   "cell_type": "code",
   "execution_count": 2,
   "metadata": {},
   "outputs": [
    {
     "name": "stderr",
     "output_type": "stream",
     "text": [
      "[*********************100%***********************]  2 of 2 completed\n"
     ]
    }
   ],
   "source": [
    "# Fetch data\n",
    "#S&P 500 Vanguard - VOO\n",
    "#S&P 500 Black Rock - BSPIX\n",
    "tickers = ['VOO','VTWO']\n",
    "df = yf.download(tickers,  start='2019-01-01', end='2024-10-11')"
   ]
  },
  {
   "cell_type": "code",
   "execution_count": 3,
   "metadata": {},
   "outputs": [
    {
     "name": "stdout",
     "output_type": "stream",
     "text": [
      "MultiIndex([('Adj Close',  'VOO'),\n",
      "            ('Adj Close', 'VTWO'),\n",
      "            (    'Close',  'VOO'),\n",
      "            (    'Close', 'VTWO'),\n",
      "            (     'High',  'VOO'),\n",
      "            (     'High', 'VTWO'),\n",
      "            (      'Low',  'VOO'),\n",
      "            (      'Low', 'VTWO'),\n",
      "            (     'Open',  'VOO'),\n",
      "            (     'Open', 'VTWO'),\n",
      "            (   'Volume',  'VOO'),\n",
      "            (   'Volume', 'VTWO')],\n",
      "           names=['Price', 'Ticker'])\n"
     ]
    }
   ],
   "source": [
    "print(df.columns)"
   ]
  },
  {
   "cell_type": "code",
   "execution_count": 6,
   "metadata": {},
   "outputs": [],
   "source": [
    "# Completely flatten the DataFrame\n",
    "df_flattened = df.stack(future_stack=True).reset_index()\n"
   ]
  },
  {
   "cell_type": "code",
   "execution_count": 8,
   "metadata": {},
   "outputs": [
    {
     "name": "stdout",
     "output_type": "stream",
     "text": [
      "Index(['Date', 'Ticker', 'Adj Close', 'Close', 'High', 'Low', 'Open',\n",
      "       'Volume'],\n",
      "      dtype='object', name='Price')\n"
     ]
    }
   ],
   "source": [
    "print(df_flattened.columns)"
   ]
  }
 ],
 "metadata": {
  "kernelspec": {
   "display_name": "Python 3",
   "language": "python",
   "name": "python3"
  },
  "language_info": {
   "codemirror_mode": {
    "name": "ipython",
    "version": 3
   },
   "file_extension": ".py",
   "mimetype": "text/x-python",
   "name": "python",
   "nbconvert_exporter": "python",
   "pygments_lexer": "ipython3",
   "version": "3.12.4"
  }
 },
 "nbformat": 4,
 "nbformat_minor": 2
}
